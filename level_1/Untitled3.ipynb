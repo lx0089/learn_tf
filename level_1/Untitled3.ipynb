{
 "cells": [
  {
   "cell_type": "code",
   "execution_count": 1,
   "metadata": {},
   "outputs": [],
   "source": [
    "import re"
   ]
  },
  {
   "cell_type": "code",
   "execution_count": 6,
   "metadata": {},
   "outputs": [
    {
     "name": "stdout",
     "output_type": "stream",
     "text": [
      "\\xqw\\xee\\xre\\xtr\\xet\\xrf\\xsd\\xfs\\xdg\\xfd\\xrq\\xwe\\xr4\\x36\\x54\\xyr\\xq3\\x42\\x34\\xrw\n"
     ]
    }
   ],
   "source": [
    "b = 'qweeretretrfsdfsdgfdrqwer43654yrq34234rw'\n",
    "c = '\\\\x' + '\\\\x'.join(re.findall(r'.{2}', b))\n",
    "print(c)"
   ]
  },
  {
   "cell_type": "code",
   "execution_count": 7,
   "metadata": {},
   "outputs": [
    {
     "name": "stdout",
     "output_type": "stream",
     "text": [
      "\\xQW\\xEE\\xRE\\xTR\\xET\\xRF\\xSD\\xFS\\xDG\\xFD\\xRQ\\xWE\\xR4\\x36\\x54\\xYR\\xQ3\\x42\\x34\\xRW\n"
     ]
    }
   ],
   "source": [
    "c = '\\\\x' + '\\\\x'.join(re.findall(r'.{2}', b.upper()))\n",
    "print(c)"
   ]
  },
  {
   "cell_type": "code",
   "execution_count": null,
   "metadata": {},
   "outputs": [],
   "source": []
  }
 ],
 "metadata": {
  "kernelspec": {
   "display_name": "Python [default]",
   "language": "python",
   "name": "python3"
  },
  "language_info": {
   "codemirror_mode": {
    "name": "ipython",
    "version": 3
   },
   "file_extension": ".py",
   "mimetype": "text/x-python",
   "name": "python",
   "nbconvert_exporter": "python",
   "pygments_lexer": "ipython3",
   "version": "3.5.2"
  }
 },
 "nbformat": 4,
 "nbformat_minor": 2
}
