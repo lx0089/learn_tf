{
 "cells": [
  {
   "cell_type": "code",
   "execution_count": 2,
   "metadata": {},
   "outputs": [
    {
     "name": "stderr",
     "output_type": "stream",
     "text": [
      "W1124 22:10:25.682818 140037489354496 deprecation.py:323] From /home/lx/.local/lib/python3.5/site-packages/tensorflow/contrib/learn/python/learn/datasets/mnist.py:262: extract_images (from tensorflow.contrib.learn.python.learn.datasets.mnist) is deprecated and will be removed in a future version.\n",
      "Instructions for updating:\n",
      "Please use tf.data to implement this functionality.\n"
     ]
    },
    {
     "name": "stdout",
     "output_type": "stream",
     "text": [
      "Extracting MNIST_data/train-images-idx3-ubyte.gz\n"
     ]
    },
    {
     "name": "stderr",
     "output_type": "stream",
     "text": [
      "W1124 22:10:25.901071 140037489354496 deprecation.py:323] From /home/lx/.local/lib/python3.5/site-packages/tensorflow/contrib/learn/python/learn/datasets/mnist.py:267: extract_labels (from tensorflow.contrib.learn.python.learn.datasets.mnist) is deprecated and will be removed in a future version.\n",
      "Instructions for updating:\n",
      "Please use tf.data to implement this functionality.\n",
      "W1124 22:10:25.903014 140037489354496 deprecation.py:323] From /home/lx/.local/lib/python3.5/site-packages/tensorflow/contrib/learn/python/learn/datasets/mnist.py:110: dense_to_one_hot (from tensorflow.contrib.learn.python.learn.datasets.mnist) is deprecated and will be removed in a future version.\n",
      "Instructions for updating:\n",
      "Please use tf.one_hot on tensors.\n",
      "W1124 22:10:25.948105 140037489354496 deprecation.py:323] From /home/lx/.local/lib/python3.5/site-packages/tensorflow/contrib/learn/python/learn/datasets/mnist.py:290: DataSet.__init__ (from tensorflow.contrib.learn.python.learn.datasets.mnist) is deprecated and will be removed in a future version.\n",
      "Instructions for updating:\n",
      "Please use alternatives such as official/mnist/dataset.py from tensorflow/models.\n"
     ]
    },
    {
     "name": "stdout",
     "output_type": "stream",
     "text": [
      "Extracting MNIST_data/train-labels-idx1-ubyte.gz\n",
      "Extracting MNIST_data/t10k-images-idx3-ubyte.gz\n",
      "Extracting MNIST_data/t10k-labels-idx1-ubyte.gz\n"
     ]
    }
   ],
   "source": [
    "import numpy as np\n",
    "import tensorflow as tf\n",
    "# 导入 MINST 数据集\n",
    "from tensorflow.examples.tutorials.mnist import input_data\n",
    "mnist = input_data.read_data_sets(\"MNIST_data/\", one_hot=True)"
   ]
  },
  {
   "cell_type": "code",
   "execution_count": 3,
   "metadata": {},
   "outputs": [],
   "source": [
    "n_input = 28 # MNIST data 输入 (img shape: 28*28)\n",
    "n_steps = 28 # timesteps\n",
    "n_hidden = 128 # hidden layer num of features\n",
    "n_classes = 10  # MNIST 列别 (0-9 ，一共10类)\n",
    "batch_size = 128\n",
    "\n",
    "\n",
    "tf.reset_default_graph()\n",
    "# tf Graph input\n",
    "x = tf.placeholder(\"float\", [None, n_steps, n_input])\n",
    "y = tf.placeholder(\"float\", [None, n_classes])\n"
   ]
  },
  {
   "cell_type": "code",
   "execution_count": 4,
   "metadata": {},
   "outputs": [
    {
     "name": "stderr",
     "output_type": "stream",
     "text": [
      "W1124 22:11:02.229481 140037489354496 deprecation.py:323] From <ipython-input-4-4da97900b2f3>:3: LSTMCell.__init__ (from tensorflow.python.ops.rnn_cell_impl) is deprecated and will be removed in a future version.\n",
      "Instructions for updating:\n",
      "This class is equivalent as tf.keras.layers.LSTMCell, and will be replaced by that in Tensorflow 2.0.\n",
      "W1124 22:11:02.232032 140037489354496 deprecation.py:323] From <ipython-input-4-4da97900b2f3>:4: MultiRNNCell.__init__ (from tensorflow.python.ops.rnn_cell_impl) is deprecated and will be removed in a future version.\n",
      "Instructions for updating:\n",
      "This class is equivalent as tf.keras.layers.StackedRNNCells, and will be replaced by that in Tensorflow 2.0.\n",
      "W1124 22:11:02.236584 140037489354496 deprecation.py:323] From <ipython-input-4-4da97900b2f3>:7: static_rnn (from tensorflow.python.ops.rnn) is deprecated and will be removed in a future version.\n",
      "Instructions for updating:\n",
      "Please use `keras.layers.RNN(cell, unroll=True)`, which is equivalent to this API\n",
      "W1124 22:11:02.520275 140037489354496 deprecation.py:506] From /home/lx/.local/lib/python3.5/site-packages/tensorflow/python/ops/init_ops.py:1251: calling VarianceScaling.__init__ (from tensorflow.python.ops.init_ops) with dtype is deprecated and will be removed in a future version.\n",
      "Instructions for updating:\n",
      "Call initializer instance with the dtype argument instead of passing it to the constructor\n",
      "W1124 22:11:02.530019 140037489354496 deprecation.py:506] From /home/lx/.local/lib/python3.5/site-packages/tensorflow/python/ops/rnn_cell_impl.py:961: calling Zeros.__init__ (from tensorflow.python.ops.init_ops) with dtype is deprecated and will be removed in a future version.\n",
      "Instructions for updating:\n",
      "Call initializer instance with the dtype argument instead of passing it to the constructor\n"
     ]
    }
   ],
   "source": [
    "stacked_rnn = []\n",
    "for i in range(3):\n",
    "    stacked_rnn.append(tf.contrib.rnn.LSTMCell(n_hidden))\n",
    "mcell = tf.contrib.rnn.MultiRNNCell(stacked_rnn)\n",
    "\n",
    "x1 = tf.unstack(x, n_steps, 1)\n",
    "outputs, states = tf.contrib.rnn.static_rnn(mcell, x1, dtype=tf.float32)\n",
    "pred = tf.contrib.layers.fully_connected(outputs[-1],n_classes,activation_fn = None)"
   ]
  },
  {
   "cell_type": "code",
   "execution_count": 5,
   "metadata": {},
   "outputs": [],
   "source": [
    "learning_rate = 0.001\n",
    "# Define loss and optimizer\n",
    "cost = tf.reduce_mean(tf.nn.softmax_cross_entropy_with_logits_v2(logits=pred, labels=y))\n",
    "optimizer = tf.train.AdamOptimizer(learning_rate=learning_rate).minimize(cost)\n",
    "\n",
    "# Evaluate model\n",
    "correct_pred = tf.equal(tf.argmax(pred,1), tf.argmax(y,1))\n",
    "accuracy = tf.reduce_mean(tf.cast(correct_pred, tf.float32))\n",
    "\n",
    "\n",
    "training_iters = 100000\n",
    "\n",
    "display_step = 10\n"
   ]
  },
  {
   "cell_type": "code",
   "execution_count": 6,
   "metadata": {},
   "outputs": [
    {
     "name": "stdout",
     "output_type": "stream",
     "text": [
      "Iter 1280, Minibatch Loss= 1.910705, Training Accuracy= 0.34375\n",
      "Iter 2560, Minibatch Loss= 1.415181, Training Accuracy= 0.50000\n",
      "Iter 3840, Minibatch Loss= 1.180613, Training Accuracy= 0.61719\n",
      "Iter 5120, Minibatch Loss= 0.937778, Training Accuracy= 0.66406\n",
      "Iter 6400, Minibatch Loss= 0.698847, Training Accuracy= 0.75781\n",
      "Iter 7680, Minibatch Loss= 0.648734, Training Accuracy= 0.78906\n",
      "Iter 8960, Minibatch Loss= 0.698985, Training Accuracy= 0.74219\n",
      "Iter 10240, Minibatch Loss= 0.483520, Training Accuracy= 0.86719\n",
      "Iter 11520, Minibatch Loss= 0.565832, Training Accuracy= 0.81250\n",
      "Iter 12800, Minibatch Loss= 0.587487, Training Accuracy= 0.79688\n",
      "Iter 14080, Minibatch Loss= 0.452167, Training Accuracy= 0.83594\n",
      "Iter 15360, Minibatch Loss= 0.310562, Training Accuracy= 0.90625\n",
      "Iter 16640, Minibatch Loss= 0.393232, Training Accuracy= 0.88281\n",
      "Iter 17920, Minibatch Loss= 0.289340, Training Accuracy= 0.91406\n",
      "Iter 19200, Minibatch Loss= 0.296531, Training Accuracy= 0.91406\n",
      "Iter 20480, Minibatch Loss= 0.401320, Training Accuracy= 0.88281\n",
      "Iter 21760, Minibatch Loss= 0.299430, Training Accuracy= 0.91406\n",
      "Iter 23040, Minibatch Loss= 0.330980, Training Accuracy= 0.89062\n",
      "Iter 24320, Minibatch Loss= 0.334896, Training Accuracy= 0.87500\n",
      "Iter 25600, Minibatch Loss= 0.229333, Training Accuracy= 0.92969\n",
      "Iter 26880, Minibatch Loss= 0.180421, Training Accuracy= 0.94531\n",
      "Iter 28160, Minibatch Loss= 0.187434, Training Accuracy= 0.94531\n",
      "Iter 29440, Minibatch Loss= 0.344715, Training Accuracy= 0.89844\n",
      "Iter 30720, Minibatch Loss= 0.139686, Training Accuracy= 0.96094\n",
      "Iter 32000, Minibatch Loss= 0.280134, Training Accuracy= 0.91406\n",
      "Iter 33280, Minibatch Loss= 0.194686, Training Accuracy= 0.92969\n",
      "Iter 34560, Minibatch Loss= 0.344808, Training Accuracy= 0.88281\n",
      "Iter 35840, Minibatch Loss= 0.136214, Training Accuracy= 0.96094\n",
      "Iter 37120, Minibatch Loss= 0.305995, Training Accuracy= 0.91406\n",
      "Iter 38400, Minibatch Loss= 0.210341, Training Accuracy= 0.92969\n",
      "Iter 39680, Minibatch Loss= 0.231026, Training Accuracy= 0.92969\n",
      "Iter 40960, Minibatch Loss= 0.276202, Training Accuracy= 0.90625\n",
      "Iter 42240, Minibatch Loss= 0.155390, Training Accuracy= 0.95312\n",
      "Iter 43520, Minibatch Loss= 0.161427, Training Accuracy= 0.96875\n",
      "Iter 44800, Minibatch Loss= 0.181430, Training Accuracy= 0.94531\n",
      "Iter 46080, Minibatch Loss= 0.100241, Training Accuracy= 0.97656\n",
      "Iter 47360, Minibatch Loss= 0.229455, Training Accuracy= 0.93750\n",
      "Iter 48640, Minibatch Loss= 0.097313, Training Accuracy= 0.97656\n",
      "Iter 49920, Minibatch Loss= 0.285138, Training Accuracy= 0.90625\n",
      "Iter 51200, Minibatch Loss= 0.089166, Training Accuracy= 0.96094\n",
      "Iter 52480, Minibatch Loss= 0.133336, Training Accuracy= 0.96094\n",
      "Iter 53760, Minibatch Loss= 0.099169, Training Accuracy= 0.96875\n",
      "Iter 55040, Minibatch Loss= 0.076395, Training Accuracy= 0.99219\n",
      "Iter 56320, Minibatch Loss= 0.054826, Training Accuracy= 0.97656\n",
      "Iter 57600, Minibatch Loss= 0.045461, Training Accuracy= 0.97656\n",
      "Iter 58880, Minibatch Loss= 0.063062, Training Accuracy= 0.98438\n",
      "Iter 60160, Minibatch Loss= 0.101415, Training Accuracy= 0.96875\n",
      "Iter 61440, Minibatch Loss= 0.162043, Training Accuracy= 0.94531\n",
      "Iter 62720, Minibatch Loss= 0.150502, Training Accuracy= 0.96094\n",
      "Iter 64000, Minibatch Loss= 0.120104, Training Accuracy= 0.98438\n",
      "Iter 65280, Minibatch Loss= 0.157496, Training Accuracy= 0.96875\n",
      "Iter 66560, Minibatch Loss= 0.171480, Training Accuracy= 0.94531\n",
      "Iter 67840, Minibatch Loss= 0.150742, Training Accuracy= 0.95312\n",
      "Iter 69120, Minibatch Loss= 0.073183, Training Accuracy= 0.98438\n",
      "Iter 70400, Minibatch Loss= 0.067185, Training Accuracy= 0.98438\n",
      "Iter 71680, Minibatch Loss= 0.146685, Training Accuracy= 0.95312\n",
      "Iter 72960, Minibatch Loss= 0.060635, Training Accuracy= 0.98438\n",
      "Iter 74240, Minibatch Loss= 0.080877, Training Accuracy= 0.98438\n",
      "Iter 75520, Minibatch Loss= 0.184114, Training Accuracy= 0.95312\n",
      "Iter 76800, Minibatch Loss= 0.100060, Training Accuracy= 0.96875\n",
      "Iter 78080, Minibatch Loss= 0.089798, Training Accuracy= 0.96875\n",
      "Iter 79360, Minibatch Loss= 0.128707, Training Accuracy= 0.96094\n",
      "Iter 80640, Minibatch Loss= 0.159279, Training Accuracy= 0.95312\n",
      "Iter 81920, Minibatch Loss= 0.134771, Training Accuracy= 0.94531\n",
      "Iter 83200, Minibatch Loss= 0.088894, Training Accuracy= 0.98438\n",
      "Iter 84480, Minibatch Loss= 0.097783, Training Accuracy= 0.98438\n",
      "Iter 85760, Minibatch Loss= 0.055396, Training Accuracy= 0.98438\n",
      "Iter 87040, Minibatch Loss= 0.121602, Training Accuracy= 0.97656\n",
      "Iter 88320, Minibatch Loss= 0.097566, Training Accuracy= 0.96875\n",
      "Iter 89600, Minibatch Loss= 0.147166, Training Accuracy= 0.95312\n",
      "Iter 90880, Minibatch Loss= 0.118571, Training Accuracy= 0.96875\n",
      "Iter 92160, Minibatch Loss= 0.069708, Training Accuracy= 0.97656\n",
      "Iter 93440, Minibatch Loss= 0.027586, Training Accuracy= 1.00000\n",
      "Iter 94720, Minibatch Loss= 0.039865, Training Accuracy= 0.98438\n",
      "Iter 96000, Minibatch Loss= 0.028038, Training Accuracy= 0.99219\n",
      "Iter 97280, Minibatch Loss= 0.105774, Training Accuracy= 0.96875\n",
      "Iter 98560, Minibatch Loss= 0.032736, Training Accuracy= 1.00000\n",
      "Iter 99840, Minibatch Loss= 0.070214, Training Accuracy= 0.97656\n",
      " Finished!\n",
      "Testing Accuracy: 0.97\n"
     ]
    }
   ],
   "source": [
    "# 启动session\n",
    "with tf.Session() as sess:\n",
    "    sess.run(tf.global_variables_initializer())\n",
    "    step = 1\n",
    "    # Keep training until reach max iterations\n",
    "    while step * batch_size < training_iters:\n",
    "        batch_x, batch_y = mnist.train.next_batch(batch_size)\n",
    "        # Reshape data to get 28 seq of 28 elements\n",
    "        batch_x = batch_x.reshape((batch_size, n_steps, n_input))\n",
    "        # Run optimization op (backprop)\n",
    "        sess.run(optimizer, feed_dict={x: batch_x, y: batch_y})\n",
    "        if step % display_step == 0:\n",
    "            # 计算批次数据的准确率\n",
    "            acc = sess.run(accuracy, feed_dict={x: batch_x, y: batch_y})\n",
    "            # Calculate batch loss\n",
    "            loss = sess.run(cost, feed_dict={x: batch_x, y: batch_y})\n",
    "            print (\"Iter \" + str(step*batch_size) + \", Minibatch Loss= \" + \\\n",
    "                  \"{:.6f}\".format(loss) + \", Training Accuracy= \" + \\\n",
    "                  \"{:.5f}\".format(acc))\n",
    "        step += 1\n",
    "    print (\" Finished!\")\n",
    "\n",
    "    # 计算准确率 for 128 mnist test images\n",
    "    test_len = 100\n",
    "    test_data = mnist.test.images[:test_len].reshape((-1, n_steps, n_input))\n",
    "    test_label = mnist.test.labels[:test_len]\n",
    "    print (\"Testing Accuracy:\", \\\n",
    "        sess.run(accuracy, feed_dict={x: test_data, y: test_label}))"
   ]
  },
  {
   "cell_type": "code",
   "execution_count": null,
   "metadata": {},
   "outputs": [],
   "source": []
  }
 ],
 "metadata": {
  "kernelspec": {
   "display_name": "Python 3",
   "language": "python",
   "name": "python3"
  },
  "language_info": {
   "codemirror_mode": {
    "name": "ipython",
    "version": 3
   },
   "file_extension": ".py",
   "mimetype": "text/x-python",
   "name": "python",
   "nbconvert_exporter": "python",
   "pygments_lexer": "ipython3",
   "version": "3.5.2"
  }
 },
 "nbformat": 4,
 "nbformat_minor": 2
}
