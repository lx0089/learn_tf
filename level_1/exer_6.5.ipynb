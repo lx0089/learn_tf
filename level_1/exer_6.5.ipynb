{
 "cells": [
  {
   "cell_type": "code",
   "execution_count": 1,
   "metadata": {},
   "outputs": [],
   "source": [
    "import tensorflow as tf"
   ]
  },
  {
   "cell_type": "code",
   "execution_count": 2,
   "metadata": {},
   "outputs": [
    {
     "name": "stdout",
     "output_type": "stream",
     "text": [
      "scaled= [[0.01791432 0.00399722 0.97808844]\n",
      " [0.04980332 0.04506391 0.90513283]]\n",
      "scaled2= [[0.21747023 0.21446465 0.56806517]\n",
      " [0.2300214  0.22893383 0.5410447 ]]\n",
      "rel1= [0.02215516 3.0996735 ]\n",
      "rel2= [0.56551915 1.4743223 ]\n",
      "rel3= [0.02215518 3.0996735 ]\n"
     ]
    }
   ],
   "source": [
    "# 交叉熵实验\n",
    "labels = [\n",
    "    [0, 0, 1],\n",
    "    [0, 1, 0]\n",
    "]\n",
    "\n",
    "logits = [\n",
    "    [2, 0.5, 6],\n",
    "    [0.1, 0, 3]\n",
    "]\n",
    "logits_scaled = tf.nn.softmax(logits)\n",
    "logits_scaled2 = tf.nn.softmax(logits_scaled)\n",
    "\n",
    "result1 = tf.nn.softmax_cross_entropy_with_logits_v2(labels=labels, logits=logits)\n",
    "result2 = tf.nn.softmax_cross_entropy_with_logits_v2(labels=labels, logits=logits_scaled)\n",
    "\n",
    "result3 = -tf.reduce_sum(labels*tf.log(logits_scaled), 1)\n",
    "with tf.Session() as sess:\n",
    "    print('scaled=', sess.run(logits_scaled))\n",
    "    print('scaled2=', sess.run(logits_scaled2))\n",
    "    print('rel1=', sess.run(result1))\n",
    "    print('rel2=', sess.run(result2))\n",
    "    print('rel3=', sess.run(result3))"
   ]
  },
  {
   "cell_type": "code",
   "execution_count": 3,
   "metadata": {},
   "outputs": [
    {
     "name": "stdout",
     "output_type": "stream",
     "text": [
      "rel4= [2.1721554 2.7696736]\n"
     ]
    }
   ],
   "source": [
    "# one_hot 实验\n",
    "labels = [\n",
    "    [0.4, 0.1, 0.5],\n",
    "    [0.3, 0.6, 0.1]\n",
    "]\n",
    "result4 = tf.nn.softmax_cross_entropy_with_logits_v2(labels=labels, logits=logits)\n",
    "\n",
    "with tf.Session() as sess:\n",
    "    print('rel4=', sess.run(result4))"
   ]
  },
  {
   "cell_type": "code",
   "execution_count": 4,
   "metadata": {},
   "outputs": [
    {
     "name": "stdout",
     "output_type": "stream",
     "text": [
      "rel5= [0.02215516 3.0996735 ]\n"
     ]
    }
   ],
   "source": [
    "# sparse 交叉熵的使用\n",
    "labels = [2, 1]\n",
    "result5 = tf.nn.sparse_softmax_cross_entropy_with_logits(labels=labels, logits=logits)\n",
    "with tf.Session() as sess:\n",
    "    print('rel5=', sess.run(result5))"
   ]
  },
  {
   "cell_type": "code",
   "execution_count": 5,
   "metadata": {},
   "outputs": [
    {
     "name": "stdout",
     "output_type": "stream",
     "text": [
      "loss= 1.5609143\n"
     ]
    }
   ],
   "source": [
    "# 计算loss值\n",
    "loss = tf.reduce_mean(result1)\n",
    "with tf.Session() as sess:\n",
    "    print('loss=', sess.run(loss))"
   ]
  },
  {
   "cell_type": "code",
   "execution_count": 6,
   "metadata": {},
   "outputs": [
    {
     "name": "stdout",
     "output_type": "stream",
     "text": [
      "loss2= 1.5609144\n"
     ]
    }
   ],
   "source": [
    "labels = [\n",
    "    [0, 0, 1],\n",
    "    [0, 1, 0]\n",
    "]\n",
    "loss2 = tf.reduce_mean(-tf.reduce_sum(labels*tf.log(logits_scaled), 1))\n",
    "with tf.Session() as sess:\n",
    "    print('loss2=', sess.run(loss2))"
   ]
  },
  {
   "cell_type": "code",
   "execution_count": null,
   "metadata": {},
   "outputs": [],
   "source": []
  }
 ],
 "metadata": {
  "kernelspec": {
   "display_name": "Python 3",
   "language": "python",
   "name": "python3"
  },
  "language_info": {
   "codemirror_mode": {
    "name": "ipython",
    "version": 3
   },
   "file_extension": ".py",
   "mimetype": "text/x-python",
   "name": "python",
   "nbconvert_exporter": "python",
   "pygments_lexer": "ipython3",
   "version": "3.7.3"
  }
 },
 "nbformat": 4,
 "nbformat_minor": 2
}
