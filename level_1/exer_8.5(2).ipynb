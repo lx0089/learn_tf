{
 "cells": [
  {
   "cell_type": "code",
   "execution_count": 2,
   "metadata": {},
   "outputs": [],
   "source": [
    "import  cifar10_input\n",
    "import tensorflow as tf\n",
    "import numpy as np"
   ]
  },
  {
   "cell_type": "code",
   "execution_count": 3,
   "metadata": {},
   "outputs": [
    {
     "name": "stdout",
     "output_type": "stream",
     "text": [
      "begin\n"
     ]
    },
    {
     "name": "stderr",
     "output_type": "stream",
     "text": [
      "W1118 23:28:05.428716 139931230029568 deprecation_wrapper.py:119] From /home/lx/learn/learn_tf/level_1/cifar10_input.py:75: The name tf.image.resize_image_with_crop_or_pad is deprecated. Please use tf.image.resize_with_crop_or_pad instead.\n",
      "\n",
      "W1118 23:28:05.467572 139931230029568 deprecation.py:323] From /home/lx/.local/lib/python3.5/site-packages/tensorflow/python/ops/image_ops_impl.py:1514: div (from tensorflow.python.ops.math_ops) is deprecated and will be removed in a future version.\n",
      "Instructions for updating:\n",
      "Deprecated in favor of operator or tf.math.divide.\n",
      "W1118 23:28:05.491669 139931230029568 deprecation.py:323] From /home/lx/learn/learn_tf/level_1/cifar10_input.py:45: DatasetV1.make_one_shot_iterator (from tensorflow.python.data.ops.dataset_ops) is deprecated and will be removed in a future version.\n",
      "Instructions for updating:\n",
      "Use `for ... in dataset:` to iterate over a dataset. If using `tf.estimator`, return the `Dataset` object directly from your input function. As a last resort, you can use `tf.compat.v1.data.make_one_shot_iterator(dataset)`.\n",
      "W1118 23:28:05.525888 139931230029568 deprecation_wrapper.py:119] From /home/lx/learn/learn_tf/level_1/cifar10_input.py:48: The name tf.summary.image is deprecated. Please use tf.compat.v1.summary.image instead.\n",
      "\n"
     ]
    },
    {
     "name": "stdout",
     "output_type": "stream",
     "text": [
      "begin data\n"
     ]
    }
   ],
   "source": [
    "batch_size = 128\n",
    "data_dir = '/tmp/cifar10_data/cifar-10-batches-bin'\n",
    "print(\"begin\")\n",
    "images_train, labels_train = cifar10_input.inputs(eval_data = False, batch_size = batch_size)\n",
    "images_test, labels_test = cifar10_input.inputs(eval_data = True, batch_size = batch_size)\n",
    "print(\"begin data\")"
   ]
  },
  {
   "cell_type": "code",
   "execution_count": 4,
   "metadata": {},
   "outputs": [],
   "source": [
    "\n",
    "def weight_variable(shape):\n",
    "  initial = tf.truncated_normal(shape, stddev=0.1)\n",
    "  return tf.Variable(initial)\n",
    "\n",
    "def bias_variable(shape):\n",
    "  initial = tf.constant(0.1, shape=shape)\n",
    "  return tf.Variable(initial)\n",
    "  \n",
    "def conv2d(x, W):\n",
    "  return tf.nn.conv2d(x, W, strides=[1, 1, 1, 1], padding='SAME')\n",
    "\n",
    "def max_pool_2x2(x):\n",
    "  return tf.nn.max_pool(x, ksize=[1, 2, 2, 1],\n",
    "                        strides=[1, 2, 2, 1], padding='SAME')  \n",
    "                        \n",
    "def avg_pool_6x6(x):\n",
    "  return tf.nn.avg_pool(x, ksize=[1, 6, 6, 1],\n",
    "                        strides=[1, 6, 6, 1], padding='SAME')"
   ]
  },
  {
   "cell_type": "code",
   "execution_count": 5,
   "metadata": {},
   "outputs": [
    {
     "name": "stderr",
     "output_type": "stream",
     "text": [
      "W1118 23:28:08.839205 139931230029568 deprecation.py:506] From <ipython-input-5-575445f92180>:28: calling dropout (from tensorflow.python.ops.nn_ops) with keep_prob is deprecated and will be removed in a future version.\n",
      "Instructions for updating:\n",
      "Please use `rate` instead of `keep_prob`. Rate should be set to `rate = 1 - keep_prob`.\n"
     ]
    }
   ],
   "source": [
    "x = tf.placeholder(tf.float32, [None, 24,24,3]) # mnist data维度 28*28=784\n",
    "y = tf.placeholder(tf.float32, [None, 10]) # 0-9 数字=> 10 classes\n",
    "\n",
    "\n",
    "W_conv1 = weight_variable([5, 5, 3, 64])\n",
    "b_conv1 = bias_variable([64])\n",
    "\n",
    "x_image = tf.reshape(x, [-1,24,24,3])\n",
    "\n",
    "h_conv1 = tf.nn.relu(conv2d(x_image, W_conv1) + b_conv1)\n",
    "h_pool1 = max_pool_2x2(h_conv1)\n",
    "\n",
    "W_conv2 = weight_variable([5, 5, 64, 64])\n",
    "b_conv2 = bias_variable([64])\n",
    "\n",
    "h_conv2 = tf.nn.relu(conv2d(h_pool1, W_conv2) + b_conv2)\n",
    "h_pool2 = max_pool_2x2(h_conv2)\n",
    "\n",
    "\n",
    "keep_prob = tf.placeholder(\"float\")\n",
    "W_fc1 = weight_variable([6 * 6 * 64, 256])\n",
    "b_fc1 = bias_variable([256])\n",
    "\n",
    "h_pool2_flat = tf.reshape(h_pool2, [-1, 6*6*64])\n",
    "h_fc1 = tf.nn.relu(tf.matmul(h_pool2_flat, W_fc1) + b_fc1)\n",
    "\n",
    "\n",
    "h_fc1_drop = tf.nn.dropout(h_fc1, keep_prob)\n",
    "\n",
    "W_fc2 = weight_variable([256, 128])\n",
    "b_fc2 = bias_variable([128])\n",
    "h_fc2 = tf.nn.relu(tf.matmul(h_fc1_drop, W_fc2) + b_fc2)\n",
    "\n",
    "W_fc3 = weight_variable([128, 10])\n",
    "b_fc3 = bias_variable([10])\n",
    "y_conv=tf.nn.softmax(tf.matmul(h_fc2, W_fc3) + b_fc3)\n",
    "\n",
    "\n",
    "cross_entropy = -tf.reduce_sum(y*tf.log(y_conv))\n",
    "\n",
    "#不同的优化方法测测效果\n",
    "#train_step = tf.train.GradientDescentOptimizer(1e-3).minimize(cross_entropy)\n",
    "#train_step = tf.train.AdagradOptimizer(1e-5).minimize(cross_entropy)\n",
    "train_step = tf.train.AdamOptimizer(1e-4).minimize(cross_entropy)\n",
    "\n",
    "correct_prediction = tf.equal(tf.argmax(y_conv,1), tf.argmax(y,1))\n",
    "accuracy = tf.reduce_mean(tf.cast(correct_prediction, \"float\"))"
   ]
  },
  {
   "cell_type": "code",
   "execution_count": 6,
   "metadata": {},
   "outputs": [
    {
     "name": "stderr",
     "output_type": "stream",
     "text": [
      "W1118 23:28:11.510731 139931230029568 deprecation.py:323] From <ipython-input-6-583d24e18fac>:3: start_queue_runners (from tensorflow.python.training.queue_runner_impl) is deprecated and will be removed in a future version.\n",
      "Instructions for updating:\n",
      "To construct input pipelines, use the `tf.data` module.\n",
      "W1118 23:28:11.516621 139931230029568 queue_runner_impl.py:471] `tf.train.start_queue_runners()` was called when no queue runners were defined. You can safely remove the call to this deprecated function.\n"
     ]
    },
    {
     "name": "stdout",
     "output_type": "stream",
     "text": [
      "step 0, training accuracy 0.140625\n",
      "step 200, training accuracy 0.203125\n",
      "step 400, training accuracy 0.335938\n",
      "step 600, training accuracy 0.3125\n",
      "step 800, training accuracy 0.367188\n",
      "step 1000, training accuracy 0.398438\n",
      "step 1200, training accuracy 0.367188\n",
      "step 1400, training accuracy 0.484375\n",
      "step 1600, training accuracy 0.40625\n",
      "step 1800, training accuracy 0.421875\n",
      "step 2000, training accuracy 0.445312\n",
      "step 2200, training accuracy 0.453125\n",
      "step 2400, training accuracy 0.476562\n",
      "step 2600, training accuracy 0.515625\n",
      "step 2800, training accuracy 0.523438\n",
      "step 3000, training accuracy 0.476562\n",
      "step 3200, training accuracy 0.585938\n",
      "step 3400, training accuracy 0.484375\n",
      "step 3600, training accuracy 0.476562\n",
      "step 3800, training accuracy 0.5625\n",
      "step 4000, training accuracy 0.46875\n",
      "step 4200, training accuracy 0.5\n",
      "step 4400, training accuracy 0.539062\n",
      "step 4600, training accuracy 0.601562\n",
      "step 4800, training accuracy 0.617188\n",
      "step 5000, training accuracy 0.539062\n",
      "step 5200, training accuracy 0.570312\n",
      "step 5400, training accuracy 0.648438\n",
      "step 5600, training accuracy 0.570312\n",
      "step 5800, training accuracy 0.648438\n",
      "step 6000, training accuracy 0.648438\n",
      "step 6200, training accuracy 0.679688\n",
      "step 6400, training accuracy 0.609375\n",
      "step 6600, training accuracy 0.679688\n",
      "step 6800, training accuracy 0.6875\n",
      "step 7000, training accuracy 0.65625\n",
      "step 7200, training accuracy 0.632812\n",
      "step 7400, training accuracy 0.578125\n",
      "step 7600, training accuracy 0.65625\n",
      "step 7800, training accuracy 0.640625\n",
      "step 8000, training accuracy 0.710938\n",
      "step 8200, training accuracy 0.710938\n",
      "step 8400, training accuracy 0.671875\n",
      "step 8600, training accuracy 0.71875\n",
      "step 8800, training accuracy 0.742188\n",
      "step 9000, training accuracy 0.6875\n",
      "step 9200, training accuracy 0.6875\n",
      "step 9400, training accuracy 0.648438\n",
      "step 9600, training accuracy 0.671875\n",
      "step 9800, training accuracy 0.695312\n",
      "step 10000, training accuracy 0.710938\n",
      "step 10200, training accuracy 0.796875\n",
      "step 10400, training accuracy 0.765625\n",
      "step 10600, training accuracy 0.773438\n",
      "step 10800, training accuracy 0.734375\n",
      "step 11000, training accuracy 0.742188\n",
      "step 11200, training accuracy 0.742188\n",
      "step 11400, training accuracy 0.765625\n",
      "step 11600, training accuracy 0.734375\n",
      "step 11800, training accuracy 0.789062\n",
      "step 12000, training accuracy 0.789062\n",
      "step 12200, training accuracy 0.796875\n",
      "step 12400, training accuracy 0.828125\n",
      "step 12600, training accuracy 0.789062\n",
      "step 12800, training accuracy 0.78125\n",
      "step 13000, training accuracy 0.804688\n",
      "step 13200, training accuracy 0.726562\n",
      "step 13400, training accuracy 0.757812\n",
      "step 13600, training accuracy 0.8125\n",
      "step 13800, training accuracy 0.78125\n",
      "step 14000, training accuracy 0.804688\n",
      "step 14200, training accuracy 0.734375\n",
      "step 14400, training accuracy 0.859375\n",
      "step 14600, training accuracy 0.804688\n",
      "step 14800, training accuracy 0.804688\n",
      "finished！ test accuracy 0.828125\n"
     ]
    }
   ],
   "source": [
    "sess = tf.Session()\n",
    "sess.run(tf.global_variables_initializer())\n",
    "tf.train.start_queue_runners(sess=sess)\n",
    "for i in range(15000):#20000\n",
    "  image_batch, label_batch = sess.run([images_train, labels_train])\n",
    "  label_b = np.eye(10,dtype=float)[label_batch] #one hot\n",
    "  \n",
    "  train_step.run(feed_dict={x:image_batch, y: label_b, keep_prob: 0.5},session=sess)\n",
    "  \n",
    "  if i%200 == 0:\n",
    "    train_accuracy = accuracy.eval(feed_dict={\n",
    "        x:image_batch, y: label_b, keep_prob: 1.0},session=sess)\n",
    "    print( \"step %d, training accuracy %g\"%(i, train_accuracy))\n",
    "\n",
    "\n",
    "image_batch, label_batch = sess.run([images_test, labels_test])\n",
    "label_b = np.eye(10,dtype=float)[label_batch]#one hot\n",
    "print (\"finished！ test accuracy %g\"%accuracy.eval(feed_dict={\n",
    "     x:image_batch, y: label_b, keep_prob: 1.0},session=sess))\n",
    "sess.close()"
   ]
  },
  {
   "cell_type": "code",
   "execution_count": null,
   "metadata": {},
   "outputs": [],
   "source": []
  }
 ],
 "metadata": {
  "kernelspec": {
   "display_name": "Python 3",
   "language": "python",
   "name": "python3"
  },
  "language_info": {
   "codemirror_mode": {
    "name": "ipython",
    "version": 3
   },
   "file_extension": ".py",
   "mimetype": "text/x-python",
   "name": "python",
   "nbconvert_exporter": "python",
   "pygments_lexer": "ipython3",
   "version": "3.5.2"
  }
 },
 "nbformat": 4,
 "nbformat_minor": 2
}
