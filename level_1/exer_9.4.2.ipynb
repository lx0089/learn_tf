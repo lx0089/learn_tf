{
 "cells": [
  {
   "cell_type": "code",
   "execution_count": 1,
   "metadata": {},
   "outputs": [],
   "source": [
    "import tensorflow as tf\n",
    "# from tensorflow.examples.tutorials.mnist import input_data\n",
    "# mnist = input_data.read_data_sets(\"MNIST_data/\", one_hot=True)\n",
    "import numpy as np\n",
    "tf.reset_default_graph()"
   ]
  },
  {
   "cell_type": "code",
   "execution_count": 2,
   "metadata": {},
   "outputs": [
    {
     "name": "stderr",
     "output_type": "stream",
     "text": [
      "WARNING: Logging before flag parsing goes to stderr.\n",
      "W1124 21:26:57.841366 140030004025088 lazy_loader.py:50] \n",
      "The TensorFlow contrib module will not be included in TensorFlow 2.0.\n",
      "For more information, please see:\n",
      "  * https://github.com/tensorflow/community/blob/master/rfcs/20180907-contrib-sunset.md\n",
      "  * https://github.com/tensorflow/addons\n",
      "  * https://github.com/tensorflow/io (for I/O related ops)\n",
      "If you depend on functionality not listed there, please file an issue.\n",
      "\n",
      "W1124 21:26:57.842185 140030004025088 deprecation.py:323] From <ipython-input-2-3af4a3cb495d>:8: BasicLSTMCell.__init__ (from tensorflow.python.ops.rnn_cell_impl) is deprecated and will be removed in a future version.\n",
      "Instructions for updating:\n",
      "This class is equivalent as tf.keras.layers.LSTMCell, and will be replaced by that in Tensorflow 2.0.\n",
      "W1124 21:26:57.843462 140030004025088 deprecation.py:323] From <ipython-input-2-3af4a3cb495d>:10: GRUCell.__init__ (from tensorflow.python.ops.rnn_cell_impl) is deprecated and will be removed in a future version.\n",
      "Instructions for updating:\n",
      "This class is equivalent as tf.keras.layers.GRUCell, and will be replaced by that in Tensorflow 2.0.\n"
     ]
    }
   ],
   "source": [
    "X = np.random.randn(2, 4, 5)\n",
    "X[1, 1:] = 0\n",
    "\n",
    "seq_lengths = [4, 1]\n",
    "\n",
    "cell = tf.contrib.rnn.BasicLSTMCell(\n",
    "    num_units=3,\n",
    "    state_is_tuple=True\n",
    ")\n",
    "gru = tf.contrib.rnn.GRUCell(3)"
   ]
  },
  {
   "cell_type": "code",
   "execution_count": 4,
   "metadata": {},
   "outputs": [
    {
     "name": "stderr",
     "output_type": "stream",
     "text": [
      "W1124 21:34:53.274811 140030004025088 deprecation.py:323] From <ipython-input-4-494b1117aa2d>:1: dynamic_rnn (from tensorflow.python.ops.rnn) is deprecated and will be removed in a future version.\n",
      "Instructions for updating:\n",
      "Please use `keras.layers.RNN(cell)`, which is equivalent to this API\n",
      "W1124 21:34:53.746726 140030004025088 deprecation.py:506] From /home/lx/.local/lib/python3.5/site-packages/tensorflow/python/ops/init_ops.py:1251: calling VarianceScaling.__init__ (from tensorflow.python.ops.init_ops) with dtype is deprecated and will be removed in a future version.\n",
      "Instructions for updating:\n",
      "Call initializer instance with the dtype argument instead of passing it to the constructor\n",
      "W1124 21:34:53.754894 140030004025088 deprecation.py:506] From /home/lx/.local/lib/python3.5/site-packages/tensorflow/python/ops/rnn_cell_impl.py:738: calling Zeros.__init__ (from tensorflow.python.ops.init_ops) with dtype is deprecated and will be removed in a future version.\n",
      "Instructions for updating:\n",
      "Call initializer instance with the dtype argument instead of passing it to the constructor\n",
      "W1124 21:34:54.016399 140030004025088 deprecation.py:323] From /home/lx/.local/lib/python3.5/site-packages/tensorflow/python/ops/rnn.py:244: add_dispatch_support.<locals>.wrapper (from tensorflow.python.ops.array_ops) is deprecated and will be removed in a future version.\n",
      "Instructions for updating:\n",
      "Use tf.where in 2.0, which has the same broadcast rule as np.where\n",
      "W1124 21:34:54.086670 140030004025088 deprecation.py:506] From /home/lx/.local/lib/python3.5/site-packages/tensorflow/python/ops/rnn_cell_impl.py:564: calling Constant.__init__ (from tensorflow.python.ops.init_ops) with dtype is deprecated and will be removed in a future version.\n",
      "Instructions for updating:\n",
      "Call initializer instance with the dtype argument instead of passing it to the constructor\n"
     ]
    },
    {
     "name": "stdout",
     "output_type": "stream",
     "text": [
      "全序列： \n",
      " [[ 0.06800888 -0.1602355   0.01323401]\n",
      " [ 0.02395706 -0.14599299  0.1249754 ]\n",
      " [-0.27276299 -0.2261432   0.08079311]\n",
      " [ 0.07934855 -0.18569386 -0.00625449]]\n",
      "短序列： \n",
      " [[-0.01687842 -0.16265676 -0.24279819]\n",
      " [ 0.          0.          0.        ]\n",
      " [ 0.          0.          0.        ]\n",
      " [ 0.          0.          0.        ]]\n",
      "LSTM的状态：  2 \n",
      " [[ 0.07934855 -0.18569386 -0.00625449]\n",
      " [-0.01687842 -0.16265676 -0.24279819]]\n",
      "GRU的状态： \n",
      " [[-0.14019825  0.07149118 -0.12245894]\n",
      " [ 0.          0.          0.        ]\n",
      " [ 0.          0.          0.        ]\n",
      " [ 0.          0.          0.        ]]\n",
      "GRU的状态：  2 \n",
      " [-0.14019825  0.07149118 -0.12245894]\n"
     ]
    }
   ],
   "source": [
    "outputs, last_states = tf.nn.dynamic_rnn(cell, X, seq_lengths, dtype=tf.float64)\n",
    "gruoutputs, grulast_states = tf.nn.dynamic_rnn(gru, X, seq_lengths, dtype=tf.float64)\n",
    "\n",
    "sess = tf.InteractiveSession()\n",
    "sess.run(tf.global_variables_initializer())\n",
    "result, sta, gruout, grusta = sess.run([outputs, last_states, gruoutputs, grulast_states])\n",
    "print(\"全序列： \\n\", result[0])\n",
    "print(\"短序列： \\n\", result[1])\n",
    "print(\"LSTM的状态： \", len(sta), \"\\n\", sta[1])\n",
    "print(\"GRU的状态： \\n\", gruout[1])\n",
    "print(\"GRU的状态： \", len(grusta), \"\\n\", grusta[1])"
   ]
  },
  {
   "cell_type": "code",
   "execution_count": null,
   "metadata": {},
   "outputs": [],
   "source": []
  }
 ],
 "metadata": {
  "kernelspec": {
   "display_name": "Python 3",
   "language": "python",
   "name": "python3"
  },
  "language_info": {
   "codemirror_mode": {
    "name": "ipython",
    "version": 3
   },
   "file_extension": ".py",
   "mimetype": "text/x-python",
   "name": "python",
   "nbconvert_exporter": "python",
   "pygments_lexer": "ipython3",
   "version": "3.5.2"
  }
 },
 "nbformat": 4,
 "nbformat_minor": 2
}
