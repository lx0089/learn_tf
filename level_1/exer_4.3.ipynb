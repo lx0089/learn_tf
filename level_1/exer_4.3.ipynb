{
 "cells": [
  {
   "cell_type": "code",
   "execution_count": 1,
   "metadata": {},
   "outputs": [],
   "source": [
    "import tensorflow as tf"
   ]
  },
  {
   "cell_type": "code",
   "execution_count": 2,
   "metadata": {},
   "outputs": [
    {
     "name": "stdout",
     "output_type": "stream",
     "text": [
      "var1: fristvar:0\n",
      "var1: fristvar_1:0\n",
      "var2: Variable:0\n",
      "var2: Variable_1:0\n",
      "var1= 2.0\n",
      "var2= 4.0\n",
      "get_var1: fristvar_2:0\n",
      "get_var1: firstvar:0\n",
      "get_var1= [0.4]\n"
     ]
    }
   ],
   "source": [
    "# Variable和get_variable的区别\n",
    "var1 = tf.Variable(1.0, name='fristvar')\n",
    "print('var1:', var1.name)\n",
    "\n",
    "var1 = tf.Variable(2.0, name='fristvar')\n",
    "print('var1:', var1.name)\n",
    "\n",
    "var2 = tf.Variable(3.0)\n",
    "print('var2:', var2.name)\n",
    "\n",
    "var2 = tf.Variable(4.0)\n",
    "print('var2:', var2.name)\n",
    "\n",
    "with tf.Session() as sess:\n",
    "    sess.run(tf.global_variables_initializer())\n",
    "    print('var1=', var1.eval())\n",
    "    print('var2=', var2.eval())\n",
    "\n",
    "get_var1 = tf.get_variable('fristvar', [1], initializer=tf.constant_initializer(0.3))\n",
    "print('get_var1:', get_var1.name)\n",
    "\n",
    "get_var1 = tf.get_variable('firstvar', [1], initializer=tf.constant_initializer(0.4))\n",
    "print('get_var1:', get_var1.name)\n",
    "\n",
    "with tf.Session() as sess:\n",
    "    sess.run(tf.global_variables_initializer())\n",
    "    print('get_var1=', get_var1.eval())"
   ]
  },
  {
   "cell_type": "code",
   "execution_count": 1,
   "metadata": {},
   "outputs": [
    {
     "name": "stderr",
     "output_type": "stream",
     "text": [
      "WARNING: Logging before flag parsing goes to stderr.\n",
      "W1104 00:53:07.064945 140018008069888 deprecation.py:506] From /home/lx/.local/lib/python3.5/site-packages/tensorflow/python/ops/init_ops.py:1251: calling VarianceScaling.__init__ (from tensorflow.python.ops.init_ops) with dtype is deprecated and will be removed in a future version.\n",
      "Instructions for updating:\n",
      "Call initializer instance with the dtype argument instead of passing it to the constructor\n"
     ]
    },
    {
     "name": "stdout",
     "output_type": "stream",
     "text": [
      "var1: test1/fristvar:0\n",
      "var2: test2/fristvar:0\n",
      "var3: test3/fristvar:0\n",
      "var4: test3/test4/firstvar:0\n"
     ]
    }
   ],
   "source": [
    "# get_variable配合variable_scope\n",
    "import tensorflow as tf\n",
    "\n",
    "with tf.variable_scope('test1', ):\n",
    "    var1 = tf.get_variable('fristvar', shape=[2], dtype=tf.float32)\n",
    "with tf.variable_scope('test2'):\n",
    "    var2 = tf.get_variable('fristvar', shape=[2], dtype=tf.float32)\n",
    "    var3 = tf.constant\n",
    "    \n",
    "print('var1:', var1.name)\n",
    "print('var2:', var2.name)\n",
    "\n",
    "\n",
    "with tf.variable_scope('test3'):\n",
    "    var3 = tf.get_variable('fristvar', shape=[2], dtype=tf.float32)\n",
    "    \n",
    "    with tf.variable_scope('test4'):\n",
    "        var4 = tf.get_variable('firstvar', shape=[2], dtype=tf.float32)\n",
    "\n",
    "print('var3:', var3.name)\n",
    "print('var4:', var4.name)"
   ]
  },
  {
   "cell_type": "code",
   "execution_count": null,
   "metadata": {},
   "outputs": [],
   "source": []
  }
 ],
 "metadata": {
  "kernelspec": {
   "display_name": "Python 3",
   "language": "python",
   "name": "python3"
  },
  "language_info": {
   "codemirror_mode": {
    "name": "ipython",
    "version": 3
   },
   "file_extension": ".py",
   "mimetype": "text/x-python",
   "name": "python",
   "nbconvert_exporter": "python",
   "pygments_lexer": "ipython3",
   "version": "3.5.2"
  }
 },
 "nbformat": 4,
 "nbformat_minor": 2
}
