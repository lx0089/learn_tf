{
 "cells": [
  {
   "cell_type": "code",
   "execution_count": 1,
   "metadata": {},
   "outputs": [
    {
     "name": "stderr",
     "output_type": "stream",
     "text": [
      "WARNING: Logging before flag parsing goes to stderr.\n",
      "W1124 21:35:52.748258 140247152105216 deprecation.py:323] From <ipython-input-1-89847c176cd8>:3: read_data_sets (from tensorflow.contrib.learn.python.learn.datasets.mnist) is deprecated and will be removed in a future version.\n",
      "Instructions for updating:\n",
      "Please use alternatives such as official/mnist/dataset.py from tensorflow/models.\n",
      "W1124 21:35:52.748975 140247152105216 deprecation.py:323] From /home/lx/.local/lib/python3.5/site-packages/tensorflow/contrib/learn/python/learn/datasets/mnist.py:260: maybe_download (from tensorflow.contrib.learn.python.learn.datasets.base) is deprecated and will be removed in a future version.\n",
      "Instructions for updating:\n",
      "Please write your own downloading logic.\n",
      "W1124 21:35:52.749557 140247152105216 deprecation.py:323] From /home/lx/.local/lib/python3.5/site-packages/tensorflow/contrib/learn/python/learn/datasets/mnist.py:262: extract_images (from tensorflow.contrib.learn.python.learn.datasets.mnist) is deprecated and will be removed in a future version.\n",
      "Instructions for updating:\n",
      "Please use tf.data to implement this functionality.\n",
      "W1124 21:35:52.950620 140247152105216 deprecation.py:323] From /home/lx/.local/lib/python3.5/site-packages/tensorflow/contrib/learn/python/learn/datasets/mnist.py:267: extract_labels (from tensorflow.contrib.learn.python.learn.datasets.mnist) is deprecated and will be removed in a future version.\n",
      "Instructions for updating:\n",
      "Please use tf.data to implement this functionality.\n"
     ]
    },
    {
     "name": "stdout",
     "output_type": "stream",
     "text": [
      "Extracting MNIST_data/train-images-idx3-ubyte.gz\n"
     ]
    },
    {
     "name": "stderr",
     "output_type": "stream",
     "text": [
      "W1124 21:35:52.952594 140247152105216 deprecation.py:323] From /home/lx/.local/lib/python3.5/site-packages/tensorflow/contrib/learn/python/learn/datasets/mnist.py:110: dense_to_one_hot (from tensorflow.contrib.learn.python.learn.datasets.mnist) is deprecated and will be removed in a future version.\n",
      "Instructions for updating:\n",
      "Please use tf.one_hot on tensors.\n",
      "W1124 21:35:52.994220 140247152105216 deprecation.py:323] From /home/lx/.local/lib/python3.5/site-packages/tensorflow/contrib/learn/python/learn/datasets/mnist.py:290: DataSet.__init__ (from tensorflow.contrib.learn.python.learn.datasets.mnist) is deprecated and will be removed in a future version.\n",
      "Instructions for updating:\n",
      "Please use alternatives such as official/mnist/dataset.py from tensorflow/models.\n"
     ]
    },
    {
     "name": "stdout",
     "output_type": "stream",
     "text": [
      "Extracting MNIST_data/train-labels-idx1-ubyte.gz\n",
      "Extracting MNIST_data/t10k-images-idx3-ubyte.gz\n",
      "Extracting MNIST_data/t10k-labels-idx1-ubyte.gz\n"
     ]
    }
   ],
   "source": [
    "import tensorflow as tf\n",
    "from tensorflow.examples.tutorials.mnist import input_data\n",
    "mnist = input_data.read_data_sets(\"MNIST_data/\", one_hot=True)"
   ]
  },
  {
   "cell_type": "code",
   "execution_count": 2,
   "metadata": {},
   "outputs": [],
   "source": [
    "n_input = 28\n",
    "n_steps = 28\n",
    "n_hidden = 128\n",
    "n_classes = 10\n",
    "\n",
    "x = tf.placeholder(\"float\", [None, n_steps, n_input])\n",
    "y = tf.placeholder(\"float\", [None, n_classes])"
   ]
  },
  {
   "cell_type": "code",
   "execution_count": 3,
   "metadata": {},
   "outputs": [
    {
     "name": "stderr",
     "output_type": "stream",
     "text": [
      "W1124 22:02:11.262918 140247152105216 deprecation.py:323] From <ipython-input-3-666834995c28>:2: BasicLSTMCell.__init__ (from tensorflow.python.ops.rnn_cell_impl) is deprecated and will be removed in a future version.\n",
      "Instructions for updating:\n",
      "This class is equivalent as tf.keras.layers.LSTMCell, and will be replaced by that in Tensorflow 2.0.\n",
      "W1124 22:02:11.265000 140247152105216 deprecation.py:323] From <ipython-input-3-666834995c28>:3: static_rnn (from tensorflow.python.ops.rnn) is deprecated and will be removed in a future version.\n",
      "Instructions for updating:\n",
      "Please use `keras.layers.RNN(cell, unroll=True)`, which is equivalent to this API\n",
      "W1124 22:02:11.290369 140247152105216 deprecation.py:506] From /home/lx/.local/lib/python3.5/site-packages/tensorflow/python/ops/init_ops.py:1251: calling VarianceScaling.__init__ (from tensorflow.python.ops.init_ops) with dtype is deprecated and will be removed in a future version.\n",
      "Instructions for updating:\n",
      "Call initializer instance with the dtype argument instead of passing it to the constructor\n",
      "W1124 22:02:11.299712 140247152105216 deprecation.py:506] From /home/lx/.local/lib/python3.5/site-packages/tensorflow/python/ops/rnn_cell_impl.py:738: calling Zeros.__init__ (from tensorflow.python.ops.init_ops) with dtype is deprecated and will be removed in a future version.\n",
      "Instructions for updating:\n",
      "Call initializer instance with the dtype argument instead of passing it to the constructor\n"
     ]
    }
   ],
   "source": [
    "x1 = tf.unstack(x, n_steps, 1)\n",
    "lstm_cell = tf.contrib.rnn.BasicLSTMCell(n_hidden, forget_bias=1.0)\n",
    "outputs, states = tf.contrib.rnn.static_rnn(lstm_cell, x1, dtype=tf.float32)\n",
    "pred = tf.contrib.layers.fully_connected(outputs[-1], n_classes, activation_fn=None)"
   ]
  },
  {
   "cell_type": "code",
   "execution_count": 5,
   "metadata": {},
   "outputs": [],
   "source": [
    "learning_rate = 0.001\n",
    "training_iters = 100000\n",
    "batch_size = 128\n",
    "display_step = 10\n",
    "\n",
    "# Define loss and optimizer\n",
    "cost = tf.reduce_mean(tf.nn.softmax_cross_entropy_with_logits_v2(logits=pred, labels=y))\n",
    "optimizer = tf.train.AdamOptimizer(learning_rate=learning_rate).minimize(cost)\n",
    "\n",
    "# Evaluate model\n",
    "correct_pred = tf.equal(tf.argmax(pred,1), tf.argmax(y,1))\n",
    "accuracy = tf.reduce_mean(tf.cast(correct_pred, tf.float32))"
   ]
  },
  {
   "cell_type": "code",
   "execution_count": 6,
   "metadata": {},
   "outputs": [
    {
     "name": "stdout",
     "output_type": "stream",
     "text": [
      "Iter 1280, Minibatch Loss= 2.125879, Training Accuracy= 0.24219\n",
      "Iter 2560, Minibatch Loss= 1.628893, Training Accuracy= 0.43750\n",
      "Iter 3840, Minibatch Loss= 1.451851, Training Accuracy= 0.50000\n",
      "Iter 5120, Minibatch Loss= 1.207693, Training Accuracy= 0.59375\n",
      "Iter 6400, Minibatch Loss= 1.145586, Training Accuracy= 0.57812\n",
      "Iter 7680, Minibatch Loss= 0.942615, Training Accuracy= 0.69531\n",
      "Iter 8960, Minibatch Loss= 0.914053, Training Accuracy= 0.64062\n",
      "Iter 10240, Minibatch Loss= 0.745248, Training Accuracy= 0.73438\n",
      "Iter 11520, Minibatch Loss= 0.679120, Training Accuracy= 0.78125\n",
      "Iter 12800, Minibatch Loss= 0.508562, Training Accuracy= 0.84375\n",
      "Iter 14080, Minibatch Loss= 0.524654, Training Accuracy= 0.80469\n",
      "Iter 15360, Minibatch Loss= 0.377787, Training Accuracy= 0.89844\n",
      "Iter 16640, Minibatch Loss= 0.449138, Training Accuracy= 0.89062\n",
      "Iter 17920, Minibatch Loss= 0.460563, Training Accuracy= 0.85938\n",
      "Iter 19200, Minibatch Loss= 0.584623, Training Accuracy= 0.84375\n",
      "Iter 20480, Minibatch Loss= 0.337877, Training Accuracy= 0.92969\n",
      "Iter 21760, Minibatch Loss= 0.481383, Training Accuracy= 0.84375\n",
      "Iter 23040, Minibatch Loss= 0.347727, Training Accuracy= 0.89844\n",
      "Iter 24320, Minibatch Loss= 0.306904, Training Accuracy= 0.92969\n",
      "Iter 25600, Minibatch Loss= 0.241014, Training Accuracy= 0.90625\n",
      "Iter 26880, Minibatch Loss= 0.223433, Training Accuracy= 0.93750\n",
      "Iter 28160, Minibatch Loss= 0.163576, Training Accuracy= 0.95312\n",
      "Iter 29440, Minibatch Loss= 0.263381, Training Accuracy= 0.91406\n",
      "Iter 30720, Minibatch Loss= 0.378611, Training Accuracy= 0.89844\n",
      "Iter 32000, Minibatch Loss= 0.282453, Training Accuracy= 0.92188\n",
      "Iter 33280, Minibatch Loss= 0.331645, Training Accuracy= 0.89062\n",
      "Iter 34560, Minibatch Loss= 0.388431, Training Accuracy= 0.89844\n",
      "Iter 35840, Minibatch Loss= 0.271532, Training Accuracy= 0.91406\n",
      "Iter 37120, Minibatch Loss= 0.266013, Training Accuracy= 0.92188\n",
      "Iter 38400, Minibatch Loss= 0.260708, Training Accuracy= 0.92188\n",
      "Iter 39680, Minibatch Loss= 0.411986, Training Accuracy= 0.89062\n",
      "Iter 40960, Minibatch Loss= 0.188582, Training Accuracy= 0.94531\n",
      "Iter 42240, Minibatch Loss= 0.293197, Training Accuracy= 0.89844\n",
      "Iter 43520, Minibatch Loss= 0.292299, Training Accuracy= 0.93750\n",
      "Iter 44800, Minibatch Loss= 0.194207, Training Accuracy= 0.93750\n",
      "Iter 46080, Minibatch Loss= 0.177199, Training Accuracy= 0.93750\n",
      "Iter 47360, Minibatch Loss= 0.186198, Training Accuracy= 0.92969\n",
      "Iter 48640, Minibatch Loss= 0.237939, Training Accuracy= 0.91406\n",
      "Iter 49920, Minibatch Loss= 0.152076, Training Accuracy= 0.96094\n",
      "Iter 51200, Minibatch Loss= 0.167503, Training Accuracy= 0.95312\n",
      "Iter 52480, Minibatch Loss= 0.194394, Training Accuracy= 0.93750\n",
      "Iter 53760, Minibatch Loss= 0.211118, Training Accuracy= 0.93750\n",
      "Iter 55040, Minibatch Loss= 0.170855, Training Accuracy= 0.93750\n",
      "Iter 56320, Minibatch Loss= 0.184775, Training Accuracy= 0.92969\n",
      "Iter 57600, Minibatch Loss= 0.176116, Training Accuracy= 0.96094\n",
      "Iter 58880, Minibatch Loss= 0.216943, Training Accuracy= 0.93750\n",
      "Iter 60160, Minibatch Loss= 0.114260, Training Accuracy= 0.96875\n",
      "Iter 61440, Minibatch Loss= 0.289280, Training Accuracy= 0.89844\n",
      "Iter 62720, Minibatch Loss= 0.169101, Training Accuracy= 0.94531\n",
      "Iter 64000, Minibatch Loss= 0.143852, Training Accuracy= 0.93750\n",
      "Iter 65280, Minibatch Loss= 0.136719, Training Accuracy= 0.96875\n",
      "Iter 66560, Minibatch Loss= 0.311612, Training Accuracy= 0.89844\n",
      "Iter 67840, Minibatch Loss= 0.189913, Training Accuracy= 0.94531\n",
      "Iter 69120, Minibatch Loss= 0.141847, Training Accuracy= 0.96094\n",
      "Iter 70400, Minibatch Loss= 0.137531, Training Accuracy= 0.96875\n",
      "Iter 71680, Minibatch Loss= 0.205875, Training Accuracy= 0.92969\n",
      "Iter 72960, Minibatch Loss= 0.088916, Training Accuracy= 0.98438\n",
      "Iter 74240, Minibatch Loss= 0.107054, Training Accuracy= 0.96875\n",
      "Iter 75520, Minibatch Loss= 0.153042, Training Accuracy= 0.95312\n",
      "Iter 76800, Minibatch Loss= 0.176704, Training Accuracy= 0.94531\n",
      "Iter 78080, Minibatch Loss= 0.142233, Training Accuracy= 0.95312\n",
      "Iter 79360, Minibatch Loss= 0.092920, Training Accuracy= 0.96094\n",
      "Iter 80640, Minibatch Loss= 0.113041, Training Accuracy= 0.96094\n",
      "Iter 81920, Minibatch Loss= 0.116814, Training Accuracy= 0.96875\n",
      "Iter 83200, Minibatch Loss= 0.160702, Training Accuracy= 0.95312\n",
      "Iter 84480, Minibatch Loss= 0.125009, Training Accuracy= 0.95312\n",
      "Iter 85760, Minibatch Loss= 0.274799, Training Accuracy= 0.91406\n",
      "Iter 87040, Minibatch Loss= 0.116466, Training Accuracy= 0.95312\n",
      "Iter 88320, Minibatch Loss= 0.193713, Training Accuracy= 0.96094\n",
      "Iter 89600, Minibatch Loss= 0.156023, Training Accuracy= 0.95312\n",
      "Iter 90880, Minibatch Loss= 0.176284, Training Accuracy= 0.95312\n",
      "Iter 92160, Minibatch Loss= 0.182451, Training Accuracy= 0.93750\n",
      "Iter 93440, Minibatch Loss= 0.134635, Training Accuracy= 0.95312\n",
      "Iter 94720, Minibatch Loss= 0.226142, Training Accuracy= 0.94531\n",
      "Iter 96000, Minibatch Loss= 0.094302, Training Accuracy= 0.97656\n",
      "Iter 97280, Minibatch Loss= 0.079953, Training Accuracy= 0.97656\n",
      "Iter 98560, Minibatch Loss= 0.158784, Training Accuracy= 0.96094\n",
      "Iter 99840, Minibatch Loss= 0.126732, Training Accuracy= 0.95312\n",
      " Finished!\n",
      "Testing Accuracy: 0.9609375\n"
     ]
    }
   ],
   "source": [
    "# 启动session\n",
    "with tf.Session() as sess:\n",
    "    sess.run(tf.global_variables_initializer())\n",
    "    step = 1\n",
    "    # Keep training until reach max iterations\n",
    "    while step * batch_size < training_iters:\n",
    "        batch_x, batch_y = mnist.train.next_batch(batch_size)\n",
    "        # Reshape data to get 28 seq of 28 elements\n",
    "        batch_x = batch_x.reshape((batch_size, n_steps, n_input))\n",
    "        # Run optimization op (backprop)\n",
    "        sess.run(optimizer, feed_dict={x: batch_x, y: batch_y})\n",
    "        if step % display_step == 0:\n",
    "            # 计算批次数据的准确率\n",
    "            acc = sess.run(accuracy, feed_dict={x: batch_x, y: batch_y})\n",
    "            # Calculate batch loss\n",
    "            loss = sess.run(cost, feed_dict={x: batch_x, y: batch_y})\n",
    "            print (\"Iter \" + str(step*batch_size) + \", Minibatch Loss= \" + \\\n",
    "                  \"{:.6f}\".format(loss) + \", Training Accuracy= \" + \\\n",
    "                  \"{:.5f}\".format(acc))\n",
    "        step += 1\n",
    "    print (\" Finished!\")\n",
    "\n",
    "    # 计算准确率 for 128 mnist test images\n",
    "    test_len = 128\n",
    "    test_data = mnist.test.images[:test_len].reshape((-1, n_steps, n_input))\n",
    "    test_label = mnist.test.labels[:test_len]\n",
    "    print (\"Testing Accuracy:\", \\\n",
    "        sess.run(accuracy, feed_dict={x: test_data, y: test_label}))\n"
   ]
  },
  {
   "cell_type": "code",
   "execution_count": null,
   "metadata": {},
   "outputs": [],
   "source": []
  }
 ],
 "metadata": {
  "kernelspec": {
   "display_name": "Python 3",
   "language": "python",
   "name": "python3"
  },
  "language_info": {
   "codemirror_mode": {
    "name": "ipython",
    "version": 3
   },
   "file_extension": ".py",
   "mimetype": "text/x-python",
   "name": "python",
   "nbconvert_exporter": "python",
   "pygments_lexer": "ipython3",
   "version": "3.5.2"
  }
 },
 "nbformat": 4,
 "nbformat_minor": 2
}
