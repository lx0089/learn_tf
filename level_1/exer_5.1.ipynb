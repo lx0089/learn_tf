{
 "cells": [
  {
   "cell_type": "code",
   "execution_count": 1,
   "metadata": {},
   "outputs": [],
   "source": [
    "import tensorflow as tf #导入tensorflow库\n",
    "from tensorflow.examples.tutorials.mnist import input_data\n",
    "import pylab "
   ]
  },
  {
   "cell_type": "code",
   "execution_count": 2,
   "metadata": {},
   "outputs": [
    {
     "name": "stderr",
     "output_type": "stream",
     "text": [
      "WARNING: Logging before flag parsing goes to stderr.\n",
      "W1105 10:40:17.255632 140445209999104 deprecation.py:323] From <ipython-input-2-a839aeb82f4b>:1: read_data_sets (from tensorflow.contrib.learn.python.learn.datasets.mnist) is deprecated and will be removed in a future version.\n",
      "Instructions for updating:\n",
      "Please use alternatives such as official/mnist/dataset.py from tensorflow/models.\n",
      "W1105 10:40:17.258269 140445209999104 deprecation.py:323] From /home/lx/.pyenv/versions/3.7.3/lib/python3.7/site-packages/tensorflow/contrib/learn/python/learn/datasets/mnist.py:260: maybe_download (from tensorflow.contrib.learn.python.learn.datasets.base) is deprecated and will be removed in a future version.\n",
      "Instructions for updating:\n",
      "Please write your own downloading logic.\n",
      "W1105 10:40:17.259493 140445209999104 deprecation.py:323] From /home/lx/.pyenv/versions/3.7.3/lib/python3.7/site-packages/tensorflow/contrib/learn/python/learn/datasets/mnist.py:262: extract_images (from tensorflow.contrib.learn.python.learn.datasets.mnist) is deprecated and will be removed in a future version.\n",
      "Instructions for updating:\n",
      "Please use tf.data to implement this functionality.\n"
     ]
    },
    {
     "name": "stdout",
     "output_type": "stream",
     "text": [
      "Extracting MNIST_data/train-images-idx3-ubyte.gz\n"
     ]
    },
    {
     "name": "stderr",
     "output_type": "stream",
     "text": [
      "W1105 10:40:17.571536 140445209999104 deprecation.py:323] From /home/lx/.pyenv/versions/3.7.3/lib/python3.7/site-packages/tensorflow/contrib/learn/python/learn/datasets/mnist.py:267: extract_labels (from tensorflow.contrib.learn.python.learn.datasets.mnist) is deprecated and will be removed in a future version.\n",
      "Instructions for updating:\n",
      "Please use tf.data to implement this functionality.\n",
      "W1105 10:40:17.573313 140445209999104 deprecation.py:323] From /home/lx/.pyenv/versions/3.7.3/lib/python3.7/site-packages/tensorflow/contrib/learn/python/learn/datasets/mnist.py:110: dense_to_one_hot (from tensorflow.contrib.learn.python.learn.datasets.mnist) is deprecated and will be removed in a future version.\n",
      "Instructions for updating:\n",
      "Please use tf.one_hot on tensors.\n",
      "W1105 10:40:17.621803 140445209999104 deprecation.py:323] From /home/lx/.pyenv/versions/3.7.3/lib/python3.7/site-packages/tensorflow/contrib/learn/python/learn/datasets/mnist.py:290: DataSet.__init__ (from tensorflow.contrib.learn.python.learn.datasets.mnist) is deprecated and will be removed in a future version.\n",
      "Instructions for updating:\n",
      "Please use alternatives such as official/mnist/dataset.py from tensorflow/models.\n"
     ]
    },
    {
     "name": "stdout",
     "output_type": "stream",
     "text": [
      "Extracting MNIST_data/train-labels-idx1-ubyte.gz\n",
      "Extracting MNIST_data/t10k-images-idx3-ubyte.gz\n",
      "Extracting MNIST_data/t10k-labels-idx1-ubyte.gz\n"
     ]
    }
   ],
   "source": [
    "mnist = input_data.read_data_sets(\"MNIST_data/\", one_hot=True)"
   ]
  },
  {
   "cell_type": "code",
   "execution_count": 3,
   "metadata": {},
   "outputs": [
    {
     "name": "stdout",
     "output_type": "stream",
     "text": [
      "Epoch: 0001 cost= 7.390992579\n",
      "Epoch: 0002 cost= 4.080194721\n",
      "Epoch: 0003 cost= 2.911412909\n",
      "Epoch: 0004 cost= 2.346094584\n",
      "Epoch: 0005 cost= 2.011213542\n",
      "Epoch: 0006 cost= 1.788065773\n",
      "Epoch: 0007 cost= 1.627304242\n",
      "Epoch: 0008 cost= 1.505270493\n",
      "Epoch: 0009 cost= 1.408934048\n",
      "Epoch: 0010 cost= 1.330711152\n",
      "Epoch: 0011 cost= 1.265683184\n",
      "Epoch: 0012 cost= 1.210307669\n",
      "Epoch: 0013 cost= 1.162564446\n",
      "Epoch: 0014 cost= 1.121021852\n",
      "Epoch: 0015 cost= 1.084430885\n",
      "Epoch: 0016 cost= 1.051743873\n",
      "Epoch: 0017 cost= 1.022449229\n",
      "Epoch: 0018 cost= 0.995949117\n",
      "Epoch: 0019 cost= 0.971837494\n",
      "Epoch: 0020 cost= 0.949900228\n",
      "Epoch: 0021 cost= 0.929683579\n",
      "Epoch: 0022 cost= 0.911071400\n",
      "Epoch: 0023 cost= 0.893768632\n",
      "Epoch: 0024 cost= 0.877614774\n",
      "Epoch: 0025 cost= 0.862656221\n",
      "Epoch: 0026 cost= 0.848682164\n",
      "Epoch: 0027 cost= 0.835574351\n",
      "Epoch: 0028 cost= 0.823138518\n",
      "Epoch: 0029 cost= 0.811510322\n",
      "Epoch: 0030 cost= 0.800409609\n",
      "Epoch: 0031 cost= 0.789943850\n",
      "Epoch: 0032 cost= 0.780014633\n",
      "Epoch: 0033 cost= 0.770662943\n",
      "Epoch: 0034 cost= 0.761561474\n",
      "Epoch: 0035 cost= 0.753018787\n",
      "Epoch: 0036 cost= 0.744801230\n",
      "Epoch: 0037 cost= 0.736971182\n",
      "Epoch: 0038 cost= 0.729514441\n",
      "Epoch: 0039 cost= 0.722287795\n",
      "Epoch: 0040 cost= 0.715266197\n",
      "Epoch: 0041 cost= 0.708644214\n",
      "Epoch: 0042 cost= 0.702388114\n",
      "Epoch: 0043 cost= 0.696182536\n",
      "Epoch: 0044 cost= 0.690312751\n",
      "Epoch: 0045 cost= 0.684593746\n",
      "Epoch: 0046 cost= 0.679026096\n",
      "Epoch: 0047 cost= 0.673679426\n",
      "Epoch: 0048 cost= 0.668450330\n",
      "Epoch: 0049 cost= 0.663396413\n",
      "Epoch: 0050 cost= 0.658715941\n",
      " Finished!\n",
      "Accuracy: 0.8601\n",
      "Model saved in file: log/521model.ckpt\n"
     ]
    }
   ],
   "source": [
    "tf.reset_default_graph()\n",
    "# tf Graph Input\n",
    "x = tf.placeholder(tf.float32, [None, 784]) # mnist data维度 28*28=784\n",
    "y = tf.placeholder(tf.float32, [None, 10]) # 0-9 数字=> 10 classes\n",
    "\n",
    "# Set model weights\n",
    "W = tf.Variable(tf.random_normal([784, 10]))\n",
    "b = tf.Variable(tf.zeros([10]))\n",
    "\n",
    "# 构建模型\n",
    "pred = tf.nn.softmax(tf.matmul(x, W) + b) # Softmax分类\n",
    "\n",
    "# Minimize error using cross entropy\n",
    "cost = tf.reduce_mean(-tf.reduce_sum(y*tf.log(pred), reduction_indices=1))\n",
    "\n",
    "#参数设置\n",
    "learning_rate = 0.01\n",
    "# 使用梯度下降优化器\n",
    "optimizer = tf.train.GradientDescentOptimizer(learning_rate).minimize(cost)\n",
    "\n",
    "training_epochs = 50\n",
    "batch_size = 100\n",
    "display_step = 1\n",
    "saver = tf.train.Saver()\n",
    "model_path = \"log/521model.ckpt\"\n",
    "\n",
    "# 启动session\n",
    "with tf.Session() as sess:\n",
    "    sess.run(tf.global_variables_initializer())# Initializing OP\n",
    "\n",
    "    # 启动循环开始训练\n",
    "    for epoch in range(training_epochs):\n",
    "        avg_cost = 0.\n",
    "        total_batch = int(mnist.train.num_examples/batch_size)\n",
    "        # 遍历全部数据集\n",
    "        for i in range(total_batch):\n",
    "            batch_xs, batch_ys = mnist.train.next_batch(batch_size)\n",
    "            # Run optimization op (backprop) and cost op (to get loss value)\n",
    "            _, c = sess.run([optimizer, cost], feed_dict={x: batch_xs,\n",
    "                                                          y: batch_ys})\n",
    "            # Compute average loss\n",
    "            avg_cost += c / total_batch\n",
    "        # 显示训练中的详细信息\n",
    "        if (epoch+1) % display_step == 0:\n",
    "            print (\"Epoch:\", '%04d' % (epoch+1), \"cost=\", \"{:.9f}\".format(avg_cost))\n",
    "\n",
    "    print( \" Finished!\")\n",
    "    correct_prediction = tf.equal(tf.argmax(pred, 1), tf.argmax(y, 1))\n",
    "    # 计算准确率\n",
    "    accuracy = tf.reduce_mean(tf.cast(correct_prediction, tf.float32))\n",
    "    print (\"Accuracy:\", accuracy.eval({x: mnist.test.images, y: mnist.test.labels}))\n",
    "\n",
    "    # Save model weights to disk\n",
    "    save_path = saver.save(sess, model_path)\n",
    "    print(\"Model saved in file: %s\" % save_path)"
   ]
  },
  {
   "cell_type": "code",
   "execution_count": 4,
   "metadata": {},
   "outputs": [
    {
     "name": "stderr",
     "output_type": "stream",
     "text": [
      "W1105 10:41:15.118470 140445209999104 deprecation.py:323] From /home/lx/.pyenv/versions/3.7.3/lib/python3.7/site-packages/tensorflow/python/training/saver.py:1276: checkpoint_exists (from tensorflow.python.training.checkpoint_management) is deprecated and will be removed in a future version.\n",
      "Instructions for updating:\n",
      "Use standard file APIs to check for files with this prefix.\n"
     ]
    },
    {
     "name": "stdout",
     "output_type": "stream",
     "text": [
      "Starting 2nd session...\n",
      "Accuracy: 0.8601\n",
      "[6 2] [[4.7151822e-08 1.2697604e-10 2.2866340e-07 3.8553490e-11 3.1950250e-08\n",
      "  7.2222548e-09 9.9999893e-01 2.8295498e-16 6.5535693e-07 1.8420375e-09]\n",
      " [4.8533830e-01 1.3497434e-05 5.0356477e-01 1.6690242e-03 3.9577390e-06\n",
      "  8.6593125e-03 8.8484494e-06 2.0017769e-06 7.1507361e-04 2.5271538e-05]] [[0. 0. 0. 0. 0. 0. 1. 0. 0. 0.]\n",
      " [1. 0. 0. 0. 0. 0. 0. 0. 0. 0.]]\n"
     ]
    },
    {
     "data": {
      "image/png": "[encoded data removed]",
      "text/plain": [
       "<Figure size 432x288 with 1 Axes>"
      ]
     },
     "metadata": {
      "needs_background": "light"
     },
     "output_type": "display_data"
    },
    {
     "data": {
      "image/png": "[encoded data removed]",
      "text/plain": [
       "<Figure size 432x288 with 1 Axes>"
      ]
     },
     "metadata": {
      "needs_background": "light"
     },
     "output_type": "display_data"
    }
   ],
   "source": [
    "#读取模型\n",
    "print(\"Starting 2nd session...\")\n",
    "with tf.Session() as sess:\n",
    "    # Initialize variables\n",
    "    sess.run(tf.global_variables_initializer())\n",
    "    # Restore model weights from previously saved model\n",
    "    saver.restore(sess, model_path)\n",
    "    \n",
    "     # 测试 model\n",
    "    correct_prediction = tf.equal(tf.argmax(pred, 1), tf.argmax(y, 1))\n",
    "    # 计算准确率\n",
    "    accuracy = tf.reduce_mean(tf.cast(correct_prediction, tf.float32))\n",
    "    print (\"Accuracy:\", accuracy.eval({x: mnist.test.images, y: mnist.test.labels}))\n",
    "    \n",
    "    output = tf.argmax(pred, 1)\n",
    "    batch_xs, batch_ys = mnist.train.next_batch(2)\n",
    "    outputval,predv = sess.run([output,pred], feed_dict={x: batch_xs})\n",
    "    print(outputval,predv,batch_ys)\n",
    "\n",
    "    im = batch_xs[0]\n",
    "    im = im.reshape(-1,28)\n",
    "    pylab.imshow(im)\n",
    "    pylab.show()\n",
    "    \n",
    "    im = batch_xs[1]\n",
    "    im = im.reshape(-1,28)\n",
    "    pylab.imshow(im)\n",
    "    pylab.show()"
   ]
  }
 ],
 "metadata": {
  "kernelspec": {
   "display_name": "Python 3",
   "language": "python",
   "name": "python3"
  },
  "language_info": {
   "codemirror_mode": {
    "name": "ipython",
    "version": 3
   },
   "file_extension": ".py",
   "mimetype": "text/x-python",
   "name": "python",
   "nbconvert_exporter": "python",
   "pygments_lexer": "ipython3",
   "version": "3.7.3"
  }
 },
 "nbformat": 4,
 "nbformat_minor": 2
}
