{
 "cells": [
  {
   "cell_type": "code",
   "execution_count": 1,
   "metadata": {},
   "outputs": [
    {
     "name": "stderr",
     "output_type": "stream",
     "text": [
      "WARNING: Logging before flag parsing goes to stderr.\n",
      "W1124 22:06:52.555537 139758571828992 deprecation.py:323] From <ipython-input-1-ea83d0c919dd>:4: read_data_sets (from tensorflow.contrib.learn.python.learn.datasets.mnist) is deprecated and will be removed in a future version.\n",
      "Instructions for updating:\n",
      "Please use alternatives such as official/mnist/dataset.py from tensorflow/models.\n",
      "W1124 22:06:52.556189 139758571828992 deprecation.py:323] From /home/lx/.local/lib/python3.5/site-packages/tensorflow/contrib/learn/python/learn/datasets/mnist.py:260: maybe_download (from tensorflow.contrib.learn.python.learn.datasets.base) is deprecated and will be removed in a future version.\n",
      "Instructions for updating:\n",
      "Please write your own downloading logic.\n",
      "W1124 22:06:52.556796 139758571828992 deprecation.py:323] From /home/lx/.local/lib/python3.5/site-packages/tensorflow/contrib/learn/python/learn/datasets/mnist.py:262: extract_images (from tensorflow.contrib.learn.python.learn.datasets.mnist) is deprecated and will be removed in a future version.\n",
      "Instructions for updating:\n",
      "Please use tf.data to implement this functionality.\n",
      "W1124 22:06:52.752714 139758571828992 deprecation.py:323] From /home/lx/.local/lib/python3.5/site-packages/tensorflow/contrib/learn/python/learn/datasets/mnist.py:267: extract_labels (from tensorflow.contrib.learn.python.learn.datasets.mnist) is deprecated and will be removed in a future version.\n",
      "Instructions for updating:\n",
      "Please use tf.data to implement this functionality.\n",
      "W1124 22:06:52.754379 139758571828992 deprecation.py:323] From /home/lx/.local/lib/python3.5/site-packages/tensorflow/contrib/learn/python/learn/datasets/mnist.py:110: dense_to_one_hot (from tensorflow.contrib.learn.python.learn.datasets.mnist) is deprecated and will be removed in a future version.\n",
      "Instructions for updating:\n",
      "Please use tf.one_hot on tensors.\n"
     ]
    },
    {
     "name": "stdout",
     "output_type": "stream",
     "text": [
      "Extracting MNIST_data/train-images-idx3-ubyte.gz\n",
      "Extracting MNIST_data/train-labels-idx1-ubyte.gz\n",
      "Extracting MNIST_data/t10k-images-idx3-ubyte.gz\n"
     ]
    },
    {
     "name": "stderr",
     "output_type": "stream",
     "text": [
      "W1124 22:06:52.794973 139758571828992 deprecation.py:323] From /home/lx/.local/lib/python3.5/site-packages/tensorflow/contrib/learn/python/learn/datasets/mnist.py:290: DataSet.__init__ (from tensorflow.contrib.learn.python.learn.datasets.mnist) is deprecated and will be removed in a future version.\n",
      "Instructions for updating:\n",
      "Please use alternatives such as official/mnist/dataset.py from tensorflow/models.\n"
     ]
    },
    {
     "name": "stdout",
     "output_type": "stream",
     "text": [
      "Extracting MNIST_data/t10k-labels-idx1-ubyte.gz\n"
     ]
    }
   ],
   "source": [
    "import tensorflow as tf\n",
    "# 导入 MINST 数据集\n",
    "from tensorflow.examples.tutorials.mnist import input_data\n",
    "mnist = input_data.read_data_sets(\"MNIST_data/\", one_hot=True)"
   ]
  },
  {
   "cell_type": "code",
   "execution_count": 2,
   "metadata": {},
   "outputs": [],
   "source": [
    "n_input = 28 # MNIST data 输入 (img shape: 28*28)\n",
    "n_steps = 28 # timesteps\n",
    "n_hidden = 128 # hidden layer num of features\n",
    "n_classes = 10  # MNIST 列别 (0-9 ，一共10类)\n",
    "\n",
    "tf.reset_default_graph()\n",
    "\n",
    "# tf Graph input\n",
    "x = tf.placeholder(\"float\", [None, n_steps, n_input])\n",
    "y = tf.placeholder(\"float\", [None, n_classes])\n",
    "\n",
    "\n",
    "x1 = tf.unstack(x, n_steps, 1)\n"
   ]
  },
  {
   "cell_type": "code",
   "execution_count": 3,
   "metadata": {},
   "outputs": [
    {
     "name": "stderr",
     "output_type": "stream",
     "text": [
      "W1124 22:07:24.111556 139758571828992 deprecation.py:323] From <ipython-input-3-cb0bdda5885e>:1: GRUCell.__init__ (from tensorflow.python.ops.rnn_cell_impl) is deprecated and will be removed in a future version.\n",
      "Instructions for updating:\n",
      "This class is equivalent as tf.keras.layers.GRUCell, and will be replaced by that in Tensorflow 2.0.\n",
      "W1124 22:07:24.113664 139758571828992 deprecation.py:323] From <ipython-input-3-cb0bdda5885e>:2: static_rnn (from tensorflow.python.ops.rnn) is deprecated and will be removed in a future version.\n",
      "Instructions for updating:\n",
      "Please use `keras.layers.RNN(cell, unroll=True)`, which is equivalent to this API\n",
      "W1124 22:07:24.131998 139758571828992 deprecation.py:506] From /home/lx/.local/lib/python3.5/site-packages/tensorflow/python/ops/init_ops.py:1251: calling VarianceScaling.__init__ (from tensorflow.python.ops.init_ops) with dtype is deprecated and will be removed in a future version.\n",
      "Instructions for updating:\n",
      "Call initializer instance with the dtype argument instead of passing it to the constructor\n",
      "W1124 22:07:24.142423 139758571828992 deprecation.py:506] From /home/lx/.local/lib/python3.5/site-packages/tensorflow/python/ops/rnn_cell_impl.py:564: calling Constant.__init__ (from tensorflow.python.ops.init_ops) with dtype is deprecated and will be removed in a future version.\n",
      "Instructions for updating:\n",
      "Call initializer instance with the dtype argument instead of passing it to the constructor\n",
      "W1124 22:07:24.157457 139758571828992 deprecation.py:506] From /home/lx/.local/lib/python3.5/site-packages/tensorflow/python/ops/rnn_cell_impl.py:574: calling Zeros.__init__ (from tensorflow.python.ops.init_ops) with dtype is deprecated and will be removed in a future version.\n",
      "Instructions for updating:\n",
      "Call initializer instance with the dtype argument instead of passing it to the constructor\n"
     ]
    }
   ],
   "source": [
    "gru = tf.contrib.rnn.GRUCell(n_hidden)\n",
    "outputs = tf.contrib.rnn.static_rnn(gru, x1, dtype=tf.float32)\n",
    "\n",
    "#4 创建动态RNN\n",
    "#outputs,_  = tf.nn.dynamic_rnn(gru,x,dtype=tf.float32)\n",
    "#outputs = tf.transpose(outputs, [1, 0, 2])\n",
    "\n",
    "pred = tf.contrib.layers.fully_connected(outputs[-1],n_classes,activation_fn = None)"
   ]
  },
  {
   "cell_type": "code",
   "execution_count": 5,
   "metadata": {},
   "outputs": [],
   "source": [
    "learning_rate = 0.001\n",
    "training_iters = 100000\n",
    "batch_size = 128\n",
    "display_step = 10\n",
    "\n",
    "# Define loss and optimizer\n",
    "cost = tf.reduce_mean(tf.nn.softmax_cross_entropy_with_logits_v2(logits=pred, labels=y))\n",
    "optimizer = tf.train.AdamOptimizer(learning_rate=learning_rate).minimize(cost)\n",
    "\n",
    "# Evaluate model\n",
    "correct_pred = tf.equal(tf.argmax(pred,1), tf.argmax(y,1))\n",
    "accuracy = tf.reduce_mean(tf.cast(correct_pred, tf.float32))\n"
   ]
  },
  {
   "cell_type": "code",
   "execution_count": 6,
   "metadata": {},
   "outputs": [
    {
     "name": "stdout",
     "output_type": "stream",
     "text": [
      "Iter 1280, Minibatch Loss= 2.141477, Training Accuracy= 0.19531\n",
      "Iter 2560, Minibatch Loss= 1.770801, Training Accuracy= 0.42188\n",
      "Iter 3840, Minibatch Loss= 1.544282, Training Accuracy= 0.44531\n",
      "Iter 5120, Minibatch Loss= 1.293175, Training Accuracy= 0.57031\n",
      "Iter 6400, Minibatch Loss= 1.051253, Training Accuracy= 0.68750\n",
      "Iter 7680, Minibatch Loss= 1.049067, Training Accuracy= 0.60938\n",
      "Iter 8960, Minibatch Loss= 0.870531, Training Accuracy= 0.66406\n",
      "Iter 10240, Minibatch Loss= 0.873520, Training Accuracy= 0.66406\n",
      "Iter 11520, Minibatch Loss= 0.754740, Training Accuracy= 0.75000\n",
      "Iter 12800, Minibatch Loss= 0.767734, Training Accuracy= 0.75000\n",
      "Iter 14080, Minibatch Loss= 0.629470, Training Accuracy= 0.78906\n",
      "Iter 15360, Minibatch Loss= 0.584954, Training Accuracy= 0.79688\n",
      "Iter 16640, Minibatch Loss= 0.559717, Training Accuracy= 0.82031\n",
      "Iter 17920, Minibatch Loss= 0.394916, Training Accuracy= 0.92188\n",
      "Iter 19200, Minibatch Loss= 0.436850, Training Accuracy= 0.88281\n",
      "Iter 20480, Minibatch Loss= 0.358107, Training Accuracy= 0.86719\n",
      "Iter 21760, Minibatch Loss= 0.362898, Training Accuracy= 0.85156\n",
      "Iter 23040, Minibatch Loss= 0.334927, Training Accuracy= 0.89844\n",
      "Iter 24320, Minibatch Loss= 0.330222, Training Accuracy= 0.91406\n",
      "Iter 25600, Minibatch Loss= 0.343858, Training Accuracy= 0.91406\n",
      "Iter 26880, Minibatch Loss= 0.298320, Training Accuracy= 0.91406\n",
      "Iter 28160, Minibatch Loss= 0.491232, Training Accuracy= 0.84375\n",
      "Iter 29440, Minibatch Loss= 0.377980, Training Accuracy= 0.86719\n",
      "Iter 30720, Minibatch Loss= 0.232050, Training Accuracy= 0.89062\n",
      "Iter 32000, Minibatch Loss= 0.240413, Training Accuracy= 0.94531\n",
      "Iter 33280, Minibatch Loss= 0.187635, Training Accuracy= 0.95312\n",
      "Iter 34560, Minibatch Loss= 0.240930, Training Accuracy= 0.92188\n",
      "Iter 35840, Minibatch Loss= 0.210694, Training Accuracy= 0.92969\n",
      "Iter 37120, Minibatch Loss= 0.166559, Training Accuracy= 0.96875\n",
      "Iter 38400, Minibatch Loss= 0.245081, Training Accuracy= 0.92969\n",
      "Iter 39680, Minibatch Loss= 0.368614, Training Accuracy= 0.89062\n",
      "Iter 40960, Minibatch Loss= 0.277770, Training Accuracy= 0.92188\n",
      "Iter 42240, Minibatch Loss= 0.144780, Training Accuracy= 0.97656\n",
      "Iter 43520, Minibatch Loss= 0.236107, Training Accuracy= 0.92188\n",
      "Iter 44800, Minibatch Loss= 0.191580, Training Accuracy= 0.92969\n",
      "Iter 46080, Minibatch Loss= 0.297727, Training Accuracy= 0.92969\n",
      "Iter 47360, Minibatch Loss= 0.240575, Training Accuracy= 0.92969\n",
      "Iter 48640, Minibatch Loss= 0.136071, Training Accuracy= 0.93750\n",
      "Iter 49920, Minibatch Loss= 0.148404, Training Accuracy= 0.94531\n",
      "Iter 51200, Minibatch Loss= 0.193878, Training Accuracy= 0.95312\n",
      "Iter 52480, Minibatch Loss= 0.176793, Training Accuracy= 0.94531\n",
      "Iter 53760, Minibatch Loss= 0.133920, Training Accuracy= 0.95312\n",
      "Iter 55040, Minibatch Loss= 0.163021, Training Accuracy= 0.95312\n",
      "Iter 56320, Minibatch Loss= 0.124990, Training Accuracy= 0.97656\n",
      "Iter 57600, Minibatch Loss= 0.185105, Training Accuracy= 0.92969\n",
      "Iter 58880, Minibatch Loss= 0.193205, Training Accuracy= 0.94531\n",
      "Iter 60160, Minibatch Loss= 0.108025, Training Accuracy= 0.96094\n",
      "Iter 61440, Minibatch Loss= 0.164420, Training Accuracy= 0.94531\n",
      "Iter 62720, Minibatch Loss= 0.122936, Training Accuracy= 0.96094\n",
      "Iter 64000, Minibatch Loss= 0.086207, Training Accuracy= 0.97656\n",
      "Iter 65280, Minibatch Loss= 0.128262, Training Accuracy= 0.97656\n",
      "Iter 66560, Minibatch Loss= 0.201323, Training Accuracy= 0.95312\n",
      "Iter 67840, Minibatch Loss= 0.197583, Training Accuracy= 0.93750\n",
      "Iter 69120, Minibatch Loss= 0.084394, Training Accuracy= 0.96094\n",
      "Iter 70400, Minibatch Loss= 0.199502, Training Accuracy= 0.93750\n",
      "Iter 71680, Minibatch Loss= 0.179488, Training Accuracy= 0.92969\n",
      "Iter 72960, Minibatch Loss= 0.162534, Training Accuracy= 0.95312\n",
      "Iter 74240, Minibatch Loss= 0.180148, Training Accuracy= 0.95312\n",
      "Iter 75520, Minibatch Loss= 0.142015, Training Accuracy= 0.96094\n",
      "Iter 76800, Minibatch Loss= 0.086700, Training Accuracy= 0.96094\n",
      "Iter 78080, Minibatch Loss= 0.069877, Training Accuracy= 0.98438\n",
      "Iter 79360, Minibatch Loss= 0.159201, Training Accuracy= 0.96875\n",
      "Iter 80640, Minibatch Loss= 0.109953, Training Accuracy= 0.96875\n",
      "Iter 81920, Minibatch Loss= 0.179661, Training Accuracy= 0.96094\n",
      "Iter 83200, Minibatch Loss= 0.129579, Training Accuracy= 0.95312\n",
      "Iter 84480, Minibatch Loss= 0.059516, Training Accuracy= 0.98438\n",
      "Iter 85760, Minibatch Loss= 0.135016, Training Accuracy= 0.95312\n",
      "Iter 87040, Minibatch Loss= 0.054832, Training Accuracy= 0.98438\n",
      "Iter 88320, Minibatch Loss= 0.041021, Training Accuracy= 0.99219\n",
      "Iter 89600, Minibatch Loss= 0.063271, Training Accuracy= 0.98438\n",
      "Iter 90880, Minibatch Loss= 0.126445, Training Accuracy= 0.95312\n",
      "Iter 92160, Minibatch Loss= 0.182025, Training Accuracy= 0.93750\n",
      "Iter 93440, Minibatch Loss= 0.120641, Training Accuracy= 0.96094\n",
      "Iter 94720, Minibatch Loss= 0.123633, Training Accuracy= 0.96094\n",
      "Iter 96000, Minibatch Loss= 0.128153, Training Accuracy= 0.96094\n",
      "Iter 97280, Minibatch Loss= 0.104629, Training Accuracy= 0.96094\n",
      "Iter 98560, Minibatch Loss= 0.106393, Training Accuracy= 0.96094\n",
      "Iter 99840, Minibatch Loss= 0.054202, Training Accuracy= 0.99219\n",
      " Finished!\n",
      "Testing Accuracy: 0.984375\n"
     ]
    }
   ],
   "source": [
    "# 启动session\n",
    "with tf.Session() as sess:\n",
    "    sess.run(tf.global_variables_initializer())\n",
    "    step = 1\n",
    "    # Keep training until reach max iterations\n",
    "    while step * batch_size < training_iters:\n",
    "        batch_x, batch_y = mnist.train.next_batch(batch_size)\n",
    "        # Reshape data to get 28 seq of 28 elements\n",
    "        batch_x = batch_x.reshape((batch_size, n_steps, n_input))\n",
    "        # Run optimization op (backprop)\n",
    "        sess.run(optimizer, feed_dict={x: batch_x, y: batch_y})\n",
    "        if step % display_step == 0:\n",
    "            # 计算批次数据的准确率\n",
    "            acc = sess.run(accuracy, feed_dict={x: batch_x, y: batch_y})\n",
    "            # Calculate batch loss\n",
    "            loss = sess.run(cost, feed_dict={x: batch_x, y: batch_y})\n",
    "            print (\"Iter \" + str(step*batch_size) + \", Minibatch Loss= \" + \\\n",
    "                  \"{:.6f}\".format(loss) + \", Training Accuracy= \" + \\\n",
    "                  \"{:.5f}\".format(acc))\n",
    "        step += 1\n",
    "    print (\" Finished!\")\n",
    "\n",
    "    # 计算准确率 for 128 mnist test images\n",
    "    test_len = 128\n",
    "    test_data = mnist.test.images[:test_len].reshape((-1, n_steps, n_input))\n",
    "    test_label = mnist.test.labels[:test_len]\n",
    "    print (\"Testing Accuracy:\", \\\n",
    "        sess.run(accuracy, feed_dict={x: test_data, y: test_label}))\n"
   ]
  },
  {
   "cell_type": "code",
   "execution_count": null,
   "metadata": {},
   "outputs": [],
   "source": []
  }
 ],
 "metadata": {
  "kernelspec": {
   "display_name": "Python 3",
   "language": "python",
   "name": "python3"
  },
  "language_info": {
   "codemirror_mode": {
    "name": "ipython",
    "version": 3
   },
   "file_extension": ".py",
   "mimetype": "text/x-python",
   "name": "python",
   "nbconvert_exporter": "python",
   "pygments_lexer": "ipython3",
   "version": "3.5.2"
  }
 },
 "nbformat": 4,
 "nbformat_minor": 2
}
