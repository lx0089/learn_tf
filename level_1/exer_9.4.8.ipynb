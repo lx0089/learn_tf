{
 "cells": [
  {
   "cell_type": "code",
   "execution_count": 1,
   "metadata": {},
   "outputs": [
    {
     "name": "stderr",
     "output_type": "stream",
     "text": [
      "WARNING: Logging before flag parsing goes to stderr.\n",
      "W1124 22:16:38.343219 140133268801280 deprecation.py:323] From <ipython-input-1-18d432a2f05b>:5: read_data_sets (from tensorflow.contrib.learn.python.learn.datasets.mnist) is deprecated and will be removed in a future version.\n",
      "Instructions for updating:\n",
      "Please use alternatives such as official/mnist/dataset.py from tensorflow/models.\n",
      "W1124 22:16:38.344385 140133268801280 deprecation.py:323] From /home/lx/.local/lib/python3.5/site-packages/tensorflow/contrib/learn/python/learn/datasets/mnist.py:260: maybe_download (from tensorflow.contrib.learn.python.learn.datasets.base) is deprecated and will be removed in a future version.\n",
      "Instructions for updating:\n",
      "Please write your own downloading logic.\n",
      "W1124 22:16:38.345285 140133268801280 deprecation.py:323] From /home/lx/.local/lib/python3.5/site-packages/tensorflow/contrib/learn/python/learn/datasets/mnist.py:262: extract_images (from tensorflow.contrib.learn.python.learn.datasets.mnist) is deprecated and will be removed in a future version.\n",
      "Instructions for updating:\n",
      "Please use tf.data to implement this functionality.\n"
     ]
    },
    {
     "name": "stdout",
     "output_type": "stream",
     "text": [
      "Extracting MNIST_data/train-images-idx3-ubyte.gz\n"
     ]
    },
    {
     "name": "stderr",
     "output_type": "stream",
     "text": [
      "W1124 22:16:38.570019 140133268801280 deprecation.py:323] From /home/lx/.local/lib/python3.5/site-packages/tensorflow/contrib/learn/python/learn/datasets/mnist.py:267: extract_labels (from tensorflow.contrib.learn.python.learn.datasets.mnist) is deprecated and will be removed in a future version.\n",
      "Instructions for updating:\n",
      "Please use tf.data to implement this functionality.\n",
      "W1124 22:16:38.572642 140133268801280 deprecation.py:323] From /home/lx/.local/lib/python3.5/site-packages/tensorflow/contrib/learn/python/learn/datasets/mnist.py:110: dense_to_one_hot (from tensorflow.contrib.learn.python.learn.datasets.mnist) is deprecated and will be removed in a future version.\n",
      "Instructions for updating:\n",
      "Please use tf.one_hot on tensors.\n",
      "W1124 22:16:38.613996 140133268801280 deprecation.py:323] From /home/lx/.local/lib/python3.5/site-packages/tensorflow/contrib/learn/python/learn/datasets/mnist.py:290: DataSet.__init__ (from tensorflow.contrib.learn.python.learn.datasets.mnist) is deprecated and will be removed in a future version.\n",
      "Instructions for updating:\n",
      "Please use alternatives such as official/mnist/dataset.py from tensorflow/models.\n"
     ]
    },
    {
     "name": "stdout",
     "output_type": "stream",
     "text": [
      "Extracting MNIST_data/train-labels-idx1-ubyte.gz\n",
      "Extracting MNIST_data/t10k-images-idx3-ubyte.gz\n",
      "Extracting MNIST_data/t10k-labels-idx1-ubyte.gz\n"
     ]
    }
   ],
   "source": [
    "import numpy as np\n",
    "import tensorflow as tf\n",
    "# 导入 MINST 数据集\n",
    "from tensorflow.examples.tutorials.mnist import input_data\n",
    "mnist = input_data.read_data_sets(\"MNIST_data/\", one_hot=True)\n"
   ]
  },
  {
   "cell_type": "code",
   "execution_count": 2,
   "metadata": {},
   "outputs": [],
   "source": [
    "n_input = 28 # MNIST data 输入 (img shape: 28*28)\n",
    "n_steps = 28 # timesteps\n",
    "n_hidden = 128 # hidden layer num of features\n",
    "n_classes = 10  # MNIST 列别 (0-9 ，一共10类)\n",
    "batch_size = 128\n",
    "\n",
    "\n",
    "tf.reset_default_graph()\n",
    "# tf Graph input\n",
    "x = tf.placeholder(\"float\", [None, n_steps, n_input])\n",
    "y = tf.placeholder(\"float\", [None, n_classes])"
   ]
  },
  {
   "cell_type": "code",
   "execution_count": 3,
   "metadata": {},
   "outputs": [
    {
     "name": "stderr",
     "output_type": "stream",
     "text": [
      "W1124 22:17:04.158390 140133268801280 deprecation.py:323] From <ipython-input-3-d775d39c7c9c>:1: GRUCell.__init__ (from tensorflow.python.ops.rnn_cell_impl) is deprecated and will be removed in a future version.\n",
      "Instructions for updating:\n",
      "This class is equivalent as tf.keras.layers.GRUCell, and will be replaced by that in Tensorflow 2.0.\n",
      "W1124 22:17:04.162944 140133268801280 deprecation.py:323] From <ipython-input-3-d775d39c7c9c>:2: LSTMCell.__init__ (from tensorflow.python.ops.rnn_cell_impl) is deprecated and will be removed in a future version.\n",
      "Instructions for updating:\n",
      "This class is equivalent as tf.keras.layers.LSTMCell, and will be replaced by that in Tensorflow 2.0.\n",
      "W1124 22:17:04.164723 140133268801280 deprecation.py:323] From <ipython-input-3-d775d39c7c9c>:3: MultiRNNCell.__init__ (from tensorflow.python.ops.rnn_cell_impl) is deprecated and will be removed in a future version.\n",
      "Instructions for updating:\n",
      "This class is equivalent as tf.keras.layers.StackedRNNCells, and will be replaced by that in Tensorflow 2.0.\n",
      "W1124 22:17:04.169504 140133268801280 deprecation.py:323] From <ipython-input-3-d775d39c7c9c>:7: static_rnn (from tensorflow.python.ops.rnn) is deprecated and will be removed in a future version.\n",
      "Instructions for updating:\n",
      "Please use `keras.layers.RNN(cell, unroll=True)`, which is equivalent to this API\n",
      "W1124 22:17:04.392070 140133268801280 deprecation.py:506] From /home/lx/.local/lib/python3.5/site-packages/tensorflow/python/ops/init_ops.py:1251: calling VarianceScaling.__init__ (from tensorflow.python.ops.init_ops) with dtype is deprecated and will be removed in a future version.\n",
      "Instructions for updating:\n",
      "Call initializer instance with the dtype argument instead of passing it to the constructor\n",
      "W1124 22:17:04.400882 140133268801280 deprecation.py:506] From /home/lx/.local/lib/python3.5/site-packages/tensorflow/python/ops/rnn_cell_impl.py:961: calling Zeros.__init__ (from tensorflow.python.ops.init_ops) with dtype is deprecated and will be removed in a future version.\n",
      "Instructions for updating:\n",
      "Call initializer instance with the dtype argument instead of passing it to the constructor\n",
      "W1124 22:17:04.946647 140133268801280 deprecation.py:506] From /home/lx/.local/lib/python3.5/site-packages/tensorflow/python/ops/rnn_cell_impl.py:564: calling Constant.__init__ (from tensorflow.python.ops.init_ops) with dtype is deprecated and will be removed in a future version.\n",
      "Instructions for updating:\n",
      "Call initializer instance with the dtype argument instead of passing it to the constructor\n"
     ]
    }
   ],
   "source": [
    "gru = tf.contrib.rnn.GRUCell(n_hidden*2)\n",
    "lstm_cell = tf.contrib.rnn.LSTMCell(n_hidden)\n",
    "mcell = tf.contrib.rnn.MultiRNNCell([lstm_cell,gru])\n",
    "\n",
    "\n",
    "x1 = tf.unstack(x, n_steps, 1)\n",
    "outputs, states = tf.contrib.rnn.static_rnn(mcell, x1, dtype=tf.float32)\n",
    "pred = tf.contrib.layers.fully_connected(outputs[-1],n_classes,activation_fn = None)"
   ]
  },
  {
   "cell_type": "code",
   "execution_count": 4,
   "metadata": {},
   "outputs": [],
   "source": [
    "learning_rate = 0.001\n",
    "# Define loss and optimizer\n",
    "cost = tf.reduce_mean(tf.nn.softmax_cross_entropy_with_logits_v2(logits=pred, labels=y))\n",
    "optimizer = tf.train.AdamOptimizer(learning_rate=learning_rate).minimize(cost)\n",
    "\n",
    "# Evaluate model\n",
    "correct_pred = tf.equal(tf.argmax(pred,1), tf.argmax(y,1))\n",
    "accuracy = tf.reduce_mean(tf.cast(correct_pred, tf.float32))\n",
    "\n",
    "\n",
    "training_iters = 100000\n",
    "\n",
    "display_step = 10"
   ]
  },
  {
   "cell_type": "code",
   "execution_count": 5,
   "metadata": {},
   "outputs": [
    {
     "name": "stdout",
     "output_type": "stream",
     "text": [
      "Iter 1280, Minibatch Loss= 1.599776, Training Accuracy= 0.46094\n",
      "Iter 2560, Minibatch Loss= 1.353425, Training Accuracy= 0.53906\n",
      "Iter 3840, Minibatch Loss= 1.190495, Training Accuracy= 0.60156\n",
      "Iter 5120, Minibatch Loss= 1.084102, Training Accuracy= 0.63281\n",
      "Iter 6400, Minibatch Loss= 0.869801, Training Accuracy= 0.75781\n",
      "Iter 7680, Minibatch Loss= 0.575768, Training Accuracy= 0.79688\n",
      "Iter 8960, Minibatch Loss= 0.676888, Training Accuracy= 0.81250\n",
      "Iter 10240, Minibatch Loss= 0.441152, Training Accuracy= 0.86719\n",
      "Iter 11520, Minibatch Loss= 0.500712, Training Accuracy= 0.82812\n",
      "Iter 12800, Minibatch Loss= 0.513626, Training Accuracy= 0.81250\n",
      "Iter 14080, Minibatch Loss= 0.317962, Training Accuracy= 0.90625\n",
      "Iter 15360, Minibatch Loss= 0.441789, Training Accuracy= 0.86719\n",
      "Iter 16640, Minibatch Loss= 0.444403, Training Accuracy= 0.86719\n",
      "Iter 17920, Minibatch Loss= 0.287472, Training Accuracy= 0.89844\n",
      "Iter 19200, Minibatch Loss= 0.225786, Training Accuracy= 0.93750\n",
      "Iter 20480, Minibatch Loss= 0.213750, Training Accuracy= 0.90625\n",
      "Iter 21760, Minibatch Loss= 0.165845, Training Accuracy= 0.94531\n",
      "Iter 23040, Minibatch Loss= 0.192717, Training Accuracy= 0.91406\n",
      "Iter 24320, Minibatch Loss= 0.259386, Training Accuracy= 0.92188\n",
      "Iter 25600, Minibatch Loss= 0.250733, Training Accuracy= 0.90625\n",
      "Iter 26880, Minibatch Loss= 0.186065, Training Accuracy= 0.94531\n",
      "Iter 28160, Minibatch Loss= 0.201945, Training Accuracy= 0.95312\n",
      "Iter 29440, Minibatch Loss= 0.088856, Training Accuracy= 0.98438\n",
      "Iter 30720, Minibatch Loss= 0.230052, Training Accuracy= 0.92969\n",
      "Iter 32000, Minibatch Loss= 0.128749, Training Accuracy= 0.95312\n",
      "Iter 33280, Minibatch Loss= 0.265295, Training Accuracy= 0.89062\n",
      "Iter 34560, Minibatch Loss= 0.162293, Training Accuracy= 0.94531\n",
      "Iter 35840, Minibatch Loss= 0.102534, Training Accuracy= 0.96875\n",
      "Iter 37120, Minibatch Loss= 0.193441, Training Accuracy= 0.92969\n",
      "Iter 38400, Minibatch Loss= 0.169857, Training Accuracy= 0.94531\n",
      "Iter 39680, Minibatch Loss= 0.114273, Training Accuracy= 0.95312\n",
      "Iter 40960, Minibatch Loss= 0.258624, Training Accuracy= 0.91406\n",
      "Iter 42240, Minibatch Loss= 0.208928, Training Accuracy= 0.93750\n",
      "Iter 43520, Minibatch Loss= 0.099360, Training Accuracy= 0.97656\n",
      "Iter 44800, Minibatch Loss= 0.151830, Training Accuracy= 0.94531\n",
      "Iter 46080, Minibatch Loss= 0.100275, Training Accuracy= 0.96094\n",
      "Iter 47360, Minibatch Loss= 0.128490, Training Accuracy= 0.97656\n",
      "Iter 48640, Minibatch Loss= 0.055926, Training Accuracy= 0.99219\n",
      "Iter 49920, Minibatch Loss= 0.093069, Training Accuracy= 0.96875\n",
      "Iter 51200, Minibatch Loss= 0.048976, Training Accuracy= 0.98438\n",
      "Iter 52480, Minibatch Loss= 0.096637, Training Accuracy= 0.95312\n",
      "Iter 53760, Minibatch Loss= 0.110740, Training Accuracy= 0.96094\n",
      "Iter 55040, Minibatch Loss= 0.182506, Training Accuracy= 0.96094\n",
      "Iter 56320, Minibatch Loss= 0.081266, Training Accuracy= 0.97656\n",
      "Iter 57600, Minibatch Loss= 0.140610, Training Accuracy= 0.96094\n",
      "Iter 58880, Minibatch Loss= 0.090514, Training Accuracy= 0.98438\n",
      "Iter 60160, Minibatch Loss= 0.062404, Training Accuracy= 0.97656\n",
      "Iter 61440, Minibatch Loss= 0.086159, Training Accuracy= 0.96875\n",
      "Iter 62720, Minibatch Loss= 0.090962, Training Accuracy= 0.97656\n",
      "Iter 64000, Minibatch Loss= 0.099041, Training Accuracy= 0.95312\n",
      "Iter 65280, Minibatch Loss= 0.131052, Training Accuracy= 0.96094\n",
      "Iter 66560, Minibatch Loss= 0.170946, Training Accuracy= 0.95312\n",
      "Iter 67840, Minibatch Loss= 0.214755, Training Accuracy= 0.92969\n",
      "Iter 69120, Minibatch Loss= 0.068639, Training Accuracy= 0.98438\n",
      "Iter 70400, Minibatch Loss= 0.108686, Training Accuracy= 0.96875\n",
      "Iter 71680, Minibatch Loss= 0.103540, Training Accuracy= 0.98438\n",
      "Iter 72960, Minibatch Loss= 0.059709, Training Accuracy= 0.98438\n",
      "Iter 74240, Minibatch Loss= 0.147513, Training Accuracy= 0.96094\n",
      "Iter 75520, Minibatch Loss= 0.225380, Training Accuracy= 0.92969\n",
      "Iter 76800, Minibatch Loss= 0.124508, Training Accuracy= 0.96094\n",
      "Iter 78080, Minibatch Loss= 0.056055, Training Accuracy= 0.98438\n",
      "Iter 79360, Minibatch Loss= 0.073512, Training Accuracy= 0.98438\n",
      "Iter 80640, Minibatch Loss= 0.047379, Training Accuracy= 0.98438\n",
      "Iter 81920, Minibatch Loss= 0.030456, Training Accuracy= 0.99219\n",
      "Iter 83200, Minibatch Loss= 0.038953, Training Accuracy= 0.99219\n",
      "Iter 84480, Minibatch Loss= 0.112774, Training Accuracy= 0.96875\n",
      "Iter 85760, Minibatch Loss= 0.098919, Training Accuracy= 0.95312\n",
      "Iter 87040, Minibatch Loss= 0.063021, Training Accuracy= 0.97656\n",
      "Iter 88320, Minibatch Loss= 0.096636, Training Accuracy= 0.96094\n",
      "Iter 89600, Minibatch Loss= 0.105163, Training Accuracy= 0.96875\n",
      "Iter 90880, Minibatch Loss= 0.052868, Training Accuracy= 0.97656\n",
      "Iter 92160, Minibatch Loss= 0.121917, Training Accuracy= 0.96875\n",
      "Iter 93440, Minibatch Loss= 0.050608, Training Accuracy= 0.97656\n",
      "Iter 94720, Minibatch Loss= 0.100665, Training Accuracy= 0.97656\n",
      "Iter 96000, Minibatch Loss= 0.032626, Training Accuracy= 1.00000\n",
      "Iter 97280, Minibatch Loss= 0.079312, Training Accuracy= 0.96094\n",
      "Iter 98560, Minibatch Loss= 0.063548, Training Accuracy= 0.98438\n",
      "Iter 99840, Minibatch Loss= 0.099330, Training Accuracy= 0.96094\n",
      " Finished!\n",
      "Testing Accuracy: 1.0\n"
     ]
    }
   ],
   "source": [
    "# 启动session\n",
    "with tf.Session() as sess:\n",
    "    sess.run(tf.global_variables_initializer())\n",
    "    step = 1\n",
    "    # Keep training until reach max iterations\n",
    "    while step * batch_size < training_iters:\n",
    "        batch_x, batch_y = mnist.train.next_batch(batch_size)\n",
    "        # Reshape data to get 28 seq of 28 elements\n",
    "        batch_x = batch_x.reshape((batch_size, n_steps, n_input))\n",
    "        # Run optimization op (backprop)\n",
    "        sess.run(optimizer, feed_dict={x: batch_x, y: batch_y})\n",
    "        if step % display_step == 0:\n",
    "            # 计算批次数据的准确率\n",
    "            acc = sess.run(accuracy, feed_dict={x: batch_x, y: batch_y})\n",
    "            # Calculate batch loss\n",
    "            loss = sess.run(cost, feed_dict={x: batch_x, y: batch_y})\n",
    "            print (\"Iter \" + str(step*batch_size) + \", Minibatch Loss= \" + \\\n",
    "                  \"{:.6f}\".format(loss) + \", Training Accuracy= \" + \\\n",
    "                  \"{:.5f}\".format(acc))\n",
    "        step += 1\n",
    "    print (\" Finished!\")\n",
    "\n",
    "    # 计算准确率 for 128 mnist test images\n",
    "    test_len = 100\n",
    "    test_data = mnist.test.images[:test_len].reshape((-1, n_steps, n_input))\n",
    "    test_label = mnist.test.labels[:test_len]\n",
    "    print (\"Testing Accuracy:\", \\\n",
    "        sess.run(accuracy, feed_dict={x: test_data, y: test_label}))\n"
   ]
  },
  {
   "cell_type": "code",
   "execution_count": null,
   "metadata": {},
   "outputs": [],
   "source": []
  }
 ],
 "metadata": {
  "kernelspec": {
   "display_name": "Python 3",
   "language": "python",
   "name": "python3"
  },
  "language_info": {
   "codemirror_mode": {
    "name": "ipython",
    "version": 3
   },
   "file_extension": ".py",
   "mimetype": "text/x-python",
   "name": "python",
   "nbconvert_exporter": "python",
   "pygments_lexer": "ipython3",
   "version": "3.5.2"
  }
 },
 "nbformat": 4,
 "nbformat_minor": 2
}
