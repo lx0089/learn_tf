{
 "cells": [
  {
   "cell_type": "code",
   "execution_count": 1,
   "metadata": {},
   "outputs": [],
   "source": [
    "import tensorflow as tf"
   ]
  },
  {
   "cell_type": "code",
   "execution_count": 2,
   "metadata": {},
   "outputs": [
    {
     "name": "stdout",
     "output_type": "stream",
     "text": [
      "0.1\n",
      "1 0.1\n",
      "2 0.09895193\n",
      "3 0.09791484\n",
      "4 0.09688862\n",
      "5 0.095873155\n",
      "6 0.094868325\n",
      "7 0.092890166\n",
      "8 0.09191661\n",
      "9 0.09095325\n",
      "10 0.089999996\n",
      "11 0.08905673\n",
      "12 0.088123344\n",
      "13 0.08719975\n",
      "14 0.08628583\n",
      "15 0.0853815\n",
      "16 0.084486626\n",
      "17 0.08360115\n",
      "18 0.08360115\n",
      "19 0.08272495\n",
      "20 0.08185793\n"
     ]
    }
   ],
   "source": [
    "global_step = tf.Variable(0, trainable=False)\n",
    "initial_learning_rate = 0.1\n",
    "learning_rate = tf.train.exponential_decay(\n",
    "    initial_learning_rate,\n",
    "    global_step=global_step,\n",
    "    decay_steps=10,\n",
    "    decay_rate=0.9\n",
    ")\n",
    "opt = tf.train.GradientDescentOptimizer(learning_rate)\n",
    "add_global = global_step.assign_add(1)\n",
    "with tf.Session() as sess:\n",
    "    tf.global_variables_initializer().run()\n",
    "    print(sess.run(learning_rate))\n",
    "    for i in range(20):\n",
    "        g, rate = sess.run([add_global, learning_rate])\n",
    "        print(g, rate)"
   ]
  },
  {
   "cell_type": "code",
   "execution_count": null,
   "metadata": {},
   "outputs": [],
   "source": []
  }
 ],
 "metadata": {
  "kernelspec": {
   "display_name": "Python 3",
   "language": "python",
   "name": "python3"
  },
  "language_info": {
   "codemirror_mode": {
    "name": "ipython",
    "version": 3
   },
   "file_extension": ".py",
   "mimetype": "text/x-python",
   "name": "python",
   "nbconvert_exporter": "python",
   "pygments_lexer": "ipython3",
   "version": "3.5.2"
  }
 },
 "nbformat": 4,
 "nbformat_minor": 2
}
