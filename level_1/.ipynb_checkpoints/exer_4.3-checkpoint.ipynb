{
 "cells": [
  {
   "cell_type": "code",
   "execution_count": 1,
   "metadata": {},
   "outputs": [],
   "source": [
    "import tensorflow as tf"
   ]
  },
  {
   "cell_type": "code",
   "execution_count": 2,
   "metadata": {},
   "outputs": [
    {
     "name": "stdout",
     "output_type": "stream",
     "text": [
      "var1: fristvar:0\n",
      "var1: fristvar_1:0\n",
      "var2: Variable:0\n",
      "var2: Variable_1:0\n",
      "var1= 2.0\n",
      "var2= 4.0\n",
      "get_var1: fristvar_2:0\n",
      "get_var1: firstvar:0\n",
      "get_var1= [0.4]\n"
     ]
    }
   ],
   "source": [
    "# Variable和get_variable的区别\n",
    "var1 = tf.Variable(1.0, name='fristvar')\n",
    "print('var1:', var1.name)\n",
    "\n",
    "var1 = tf.Variable(2.0, name='fristvar')\n",
    "print('var1:', var1.name)\n",
    "\n",
    "var2 = tf.Variable(3.0)\n",
    "print('var2:', var2.name)\n",
    "\n",
    "var2 = tf.Variable(4.0)\n",
    "print('var2:', var2.name)\n",
    "\n",
    "with tf.Session() as sess:\n",
    "    sess.run(tf.global_variables_initializer())\n",
    "    print('var1=', var1.eval())\n",
    "    print('var2=', var2.eval())\n",
    "\n",
    "get_var1 = tf.get_variable('fristvar', [1], initializer=tf.constant_initializer(0.3))\n",
    "print('get_var1:', get_var1.name)\n",
    "\n",
    "get_var1 = tf.get_variable('firstvar', [1], initializer=tf.constant_initializer(0.4))\n",
    "print('get_var1:', get_var1.name)\n",
    "\n",
    "with tf.Session() as sess:\n",
    "    sess.run(tf.global_variables_initializer())\n",
    "    print('get_var1=', get_var1.eval())"
   ]
  },
  {
   "cell_type": "code",
   "execution_count": null,
   "metadata": {},
   "outputs": [],
   "source": [
    "# get_variable配合variable_scope\n",
    "import "
   ]
  }
 ],
 "metadata": {
  "kernelspec": {
   "display_name": "Python 3",
   "language": "python",
   "name": "python3"
  },
  "language_info": {
   "codemirror_mode": {
    "name": "ipython",
    "version": 3
   },
   "file_extension": ".py",
   "mimetype": "text/x-python",
   "name": "python",
   "nbconvert_exporter": "python",
   "pygments_lexer": "ipython3",
   "version": "3.5.2"
  }
 },
 "nbformat": 4,
 "nbformat_minor": 2
}
