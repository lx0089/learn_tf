{
 "cells": [
  {
   "cell_type": "code",
   "execution_count": 1,
   "metadata": {},
   "outputs": [],
   "source": [
    "import numpy as np\n",
    "import tensorflow as tf"
   ]
  },
  {
   "cell_type": "code",
   "execution_count": 2,
   "metadata": {},
   "outputs": [
    {
     "name": "stdout",
     "output_type": "stream",
     "text": [
      "<tensorflow.python.framework.ops.Graph object at 0x7fd8f241b320>\n",
      "<tensorflow.python.framework.ops.Graph object at 0x7fd8f241b320>\n",
      "<tensorflow.python.framework.ops.Graph object at 0x7fd8f241b358>\n",
      "<tensorflow.python.framework.ops.Graph object at 0x7fd8f241b358>\n",
      "<tensorflow.python.framework.ops.Graph object at 0x7fd8f241b4e0>\n"
     ]
    }
   ],
   "source": [
    "# 图的基本操作\n",
    "# 建立图\n",
    "c = tf.constant(0.0)\n",
    "g = tf.Graph()\n",
    "\n",
    "with g.as_default():\n",
    "    c1 = tf.constant(0.0)\n",
    "    print(c1.graph)\n",
    "    print(g)\n",
    "    print(c.graph)\n",
    "\n",
    "g2 = tf.get_default_graph()\n",
    "print(g2)\n",
    "\n",
    "tf.reset_default_graph()\n",
    "g3 = tf.get_default_graph()\n",
    "print(g3)"
   ]
  },
  {
   "cell_type": "code",
   "execution_count": 3,
   "metadata": {},
   "outputs": [
    {
     "name": "stdout",
     "output_type": "stream",
     "text": [
      "Const:0\n",
      "Tensor(\"Const:0\", shape=(), dtype=float32)\n"
     ]
    }
   ],
   "source": [
    "# 获取张量\n",
    "print(c1.name)\n",
    "t = g.get_tensor_by_name(name=c1.name)\n",
    "print(t)"
   ]
  },
  {
   "cell_type": "code",
   "execution_count": 4,
   "metadata": {},
   "outputs": [
    {
     "name": "stdout",
     "output_type": "stream",
     "text": [
      "exampleop:0 Tensor(\"exampleop:0\", shape=(1, 1), dtype=float32)\n",
      "Tensor(\"exampleop:0\", shape=(1, 1), dtype=float32)\n",
      "exampleop\n",
      "name: \"exampleop\"\n",
      "op: \"MatMul\"\n",
      "input: \"Const\"\n",
      "input: \"Const_1\"\n",
      "attr {\n",
      "  key: \"T\"\n",
      "  value {\n",
      "    type: DT_FLOAT\n",
      "  }\n",
      "}\n",
      "attr {\n",
      "  key: \"transpose_a\"\n",
      "  value {\n",
      "    b: false\n",
      "  }\n",
      "}\n",
      "attr {\n",
      "  key: \"transpose_b\"\n",
      "  value {\n",
      "    b: false\n",
      "  }\n",
      "}\n",
      "\n",
      "[[7.]]\n",
      "Tensor(\"exampleop:0\", shape=(1, 1), dtype=float32)\n"
     ]
    }
   ],
   "source": [
    "# 获取节点操作\n",
    "a = tf.constant([[1.0, 2.0]])\n",
    "b = tf.constant([[1.0], [3.0]])\n",
    "\n",
    "tensor1 = tf.matmul(a, b, name='exampleop')\n",
    "print(tensor1.name, tensor1)\n",
    "\n",
    "test = g3.get_tensor_by_name('exampleop:0')\n",
    "print(test)\n",
    "\n",
    "print(tensor1.op.name)\n",
    "testop = g3.get_operation_by_name('exampleop')\n",
    "print(testop)\n",
    "\n",
    "with tf.Session() as sess:\n",
    "    test = sess.run(test)\n",
    "    print(test)\n",
    "    \n",
    "    test = tf.get_default_graph().get_tensor_by_name('exampleop:0')\n",
    "    print(test)"
   ]
  },
  {
   "cell_type": "code",
   "execution_count": 5,
   "metadata": {},
   "outputs": [
    {
     "name": "stdout",
     "output_type": "stream",
     "text": [
      "[<tf.Operation 'Const' type=Const>]\n"
     ]
    }
   ],
   "source": [
    "# 获取元素列表\n",
    "tt2 = g.get_operations()\n",
    "print(tt2)"
   ]
  },
  {
   "cell_type": "code",
   "execution_count": 6,
   "metadata": {},
   "outputs": [
    {
     "name": "stdout",
     "output_type": "stream",
     "text": [
      "Tensor(\"Const:0\", shape=(), dtype=float32)\n"
     ]
    }
   ],
   "source": [
    "# 获取对象\n",
    "tt3 = g.as_graph_element(c1)\n",
    "print(tt3)"
   ]
  }
 ],
 "metadata": {
  "kernelspec": {
   "display_name": "Python 3",
   "language": "python",
   "name": "python3"
  },
  "language_info": {
   "codemirror_mode": {
    "name": "ipython",
    "version": 3
   },
   "file_extension": ".py",
   "mimetype": "text/x-python",
   "name": "python",
   "nbconvert_exporter": "python",
   "pygments_lexer": "ipython3",
   "version": "3.5.2"
  }
 },
 "nbformat": 4,
 "nbformat_minor": 2
}
