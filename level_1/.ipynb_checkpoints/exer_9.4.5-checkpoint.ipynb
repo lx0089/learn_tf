{
 "cells": [
  {
   "cell_type": "code",
   "execution_count": 1,
   "metadata": {},
   "outputs": [
    {
     "name": "stderr",
     "output_type": "stream",
     "text": [
      "WARNING: Logging before flag parsing goes to stderr.\n",
      "W1124 22:14:34.078412 139985941112576 deprecation.py:323] From <ipython-input-1-ea83d0c919dd>:4: read_data_sets (from tensorflow.contrib.learn.python.learn.datasets.mnist) is deprecated and will be removed in a future version.\n",
      "Instructions for updating:\n",
      "Please use alternatives such as official/mnist/dataset.py from tensorflow/models.\n",
      "W1124 22:14:34.079230 139985941112576 deprecation.py:323] From /home/lx/.local/lib/python3.5/site-packages/tensorflow/contrib/learn/python/learn/datasets/mnist.py:260: maybe_download (from tensorflow.contrib.learn.python.learn.datasets.base) is deprecated and will be removed in a future version.\n",
      "Instructions for updating:\n",
      "Please write your own downloading logic.\n",
      "W1124 22:14:34.079828 139985941112576 deprecation.py:323] From /home/lx/.local/lib/python3.5/site-packages/tensorflow/contrib/learn/python/learn/datasets/mnist.py:262: extract_images (from tensorflow.contrib.learn.python.learn.datasets.mnist) is deprecated and will be removed in a future version.\n",
      "Instructions for updating:\n",
      "Please use tf.data to implement this functionality.\n",
      "W1124 22:14:34.275931 139985941112576 deprecation.py:323] From /home/lx/.local/lib/python3.5/site-packages/tensorflow/contrib/learn/python/learn/datasets/mnist.py:267: extract_labels (from tensorflow.contrib.learn.python.learn.datasets.mnist) is deprecated and will be removed in a future version.\n",
      "Instructions for updating:\n",
      "Please use tf.data to implement this functionality.\n",
      "W1124 22:14:34.277723 139985941112576 deprecation.py:323] From /home/lx/.local/lib/python3.5/site-packages/tensorflow/contrib/learn/python/learn/datasets/mnist.py:110: dense_to_one_hot (from tensorflow.contrib.learn.python.learn.datasets.mnist) is deprecated and will be removed in a future version.\n",
      "Instructions for updating:\n",
      "Please use tf.one_hot on tensors.\n"
     ]
    },
    {
     "name": "stdout",
     "output_type": "stream",
     "text": [
      "Extracting MNIST_data/train-images-idx3-ubyte.gz\n",
      "Extracting MNIST_data/train-labels-idx1-ubyte.gz\n"
     ]
    },
    {
     "name": "stderr",
     "output_type": "stream",
     "text": [
      "W1124 22:14:34.319118 139985941112576 deprecation.py:323] From /home/lx/.local/lib/python3.5/site-packages/tensorflow/contrib/learn/python/learn/datasets/mnist.py:290: DataSet.__init__ (from tensorflow.contrib.learn.python.learn.datasets.mnist) is deprecated and will be removed in a future version.\n",
      "Instructions for updating:\n",
      "Please use alternatives such as official/mnist/dataset.py from tensorflow/models.\n"
     ]
    },
    {
     "name": "stdout",
     "output_type": "stream",
     "text": [
      "Extracting MNIST_data/t10k-images-idx3-ubyte.gz\n",
      "Extracting MNIST_data/t10k-labels-idx1-ubyte.gz\n"
     ]
    }
   ],
   "source": [
    "import tensorflow as tf\n",
    "# 导入 MINST 数据集\n",
    "from tensorflow.examples.tutorials.mnist import input_data\n",
    "mnist = input_data.read_data_sets(\"MNIST_data/\", one_hot=True)\n"
   ]
  },
  {
   "cell_type": "code",
   "execution_count": 2,
   "metadata": {},
   "outputs": [],
   "source": [
    "n_input = 28 # MNIST data 输入 (img shape: 28*28)\n",
    "n_steps = 28 # timesteps\n",
    "n_hidden = 128 # hidden layer num of features\n",
    "n_classes = 10  # MNIST 列别 (0-9 ，一共10类)\n",
    "\n",
    "tf.reset_default_graph()\n",
    "\n",
    "# tf Graph input\n",
    "x = tf.placeholder(\"float\", [None, n_steps, n_input])\n",
    "y = tf.placeholder(\"float\", [None, n_classes])\n",
    "\n",
    "\n",
    "x1 = tf.unstack(x, n_steps, 1)"
   ]
  },
  {
   "cell_type": "code",
   "execution_count": 3,
   "metadata": {},
   "outputs": [
    {
     "name": "stderr",
     "output_type": "stream",
     "text": [
      "W1124 22:14:36.982899 139985941112576 deprecation.py:323] From <ipython-input-3-a9e406bcd82e>:1: GRUCell.__init__ (from tensorflow.python.ops.rnn_cell_impl) is deprecated and will be removed in a future version.\n",
      "Instructions for updating:\n",
      "This class is equivalent as tf.keras.layers.GRUCell, and will be replaced by that in Tensorflow 2.0.\n",
      "W1124 22:14:36.984528 139985941112576 deprecation.py:323] From <ipython-input-3-a9e406bcd82e>:2: dynamic_rnn (from tensorflow.python.ops.rnn) is deprecated and will be removed in a future version.\n",
      "Instructions for updating:\n",
      "Please use `keras.layers.RNN(cell)`, which is equivalent to this API\n",
      "W1124 22:14:37.038070 139985941112576 deprecation.py:506] From /home/lx/.local/lib/python3.5/site-packages/tensorflow/python/ops/init_ops.py:1251: calling VarianceScaling.__init__ (from tensorflow.python.ops.init_ops) with dtype is deprecated and will be removed in a future version.\n",
      "Instructions for updating:\n",
      "Call initializer instance with the dtype argument instead of passing it to the constructor\n",
      "W1124 22:14:37.045637 139985941112576 deprecation.py:506] From /home/lx/.local/lib/python3.5/site-packages/tensorflow/python/ops/rnn_cell_impl.py:564: calling Constant.__init__ (from tensorflow.python.ops.init_ops) with dtype is deprecated and will be removed in a future version.\n",
      "Instructions for updating:\n",
      "Call initializer instance with the dtype argument instead of passing it to the constructor\n",
      "W1124 22:14:37.057292 139985941112576 deprecation.py:506] From /home/lx/.local/lib/python3.5/site-packages/tensorflow/python/ops/rnn_cell_impl.py:574: calling Zeros.__init__ (from tensorflow.python.ops.init_ops) with dtype is deprecated and will be removed in a future version.\n",
      "Instructions for updating:\n",
      "Call initializer instance with the dtype argument instead of passing it to the constructor\n"
     ]
    }
   ],
   "source": [
    "gru = tf.contrib.rnn.GRUCell(n_hidden)\n",
    "outputs,_  = tf.nn.dynamic_rnn(gru,x,dtype=tf.float32)\n",
    "outputs = tf.transpose(outputs, [1, 0, 2])\n",
    "\n",
    "pred = tf.contrib.layers.fully_connected(outputs[-1],n_classes,activation_fn = None)\n",
    "\n",
    "\n",
    "\n",
    "learning_rate = 0.001\n",
    "training_iters = 100000\n",
    "batch_size = 128\n",
    "display_step = 10\n",
    "\n",
    "# Define loss and optimizer\n",
    "cost = tf.reduce_mean(tf.nn.softmax_cross_entropy_with_logits_v2(logits=pred, labels=y))\n",
    "optimizer = tf.train.AdamOptimizer(learning_rate=learning_rate).minimize(cost)\n",
    "\n",
    "# Evaluate model\n",
    "correct_pred = tf.equal(tf.argmax(pred,1), tf.argmax(y,1))\n",
    "accuracy = tf.reduce_mean(tf.cast(correct_pred, tf.float32))"
   ]
  },
  {
   "cell_type": "code",
   "execution_count": 4,
   "metadata": {},
   "outputs": [
    {
     "name": "stdout",
     "output_type": "stream",
     "text": [
      "Iter 1280, Minibatch Loss= 2.096090, Training Accuracy= 0.29688\n",
      "Iter 2560, Minibatch Loss= 1.816744, Training Accuracy= 0.41406\n",
      "Iter 3840, Minibatch Loss= 1.427175, Training Accuracy= 0.52344\n",
      "Iter 5120, Minibatch Loss= 1.199842, Training Accuracy= 0.64844\n",
      "Iter 6400, Minibatch Loss= 1.229893, Training Accuracy= 0.62500\n",
      "Iter 7680, Minibatch Loss= 0.991035, Training Accuracy= 0.65625\n",
      "Iter 8960, Minibatch Loss= 0.945528, Training Accuracy= 0.73438\n",
      "Iter 10240, Minibatch Loss= 0.759670, Training Accuracy= 0.74219\n",
      "Iter 11520, Minibatch Loss= 0.847208, Training Accuracy= 0.72656\n",
      "Iter 12800, Minibatch Loss= 0.609865, Training Accuracy= 0.83594\n",
      "Iter 14080, Minibatch Loss= 0.625777, Training Accuracy= 0.77344\n",
      "Iter 15360, Minibatch Loss= 0.490789, Training Accuracy= 0.82812\n",
      "Iter 16640, Minibatch Loss= 0.481337, Training Accuracy= 0.86719\n",
      "Iter 17920, Minibatch Loss= 0.373137, Training Accuracy= 0.89844\n",
      "Iter 19200, Minibatch Loss= 0.325732, Training Accuracy= 0.91406\n",
      "Iter 20480, Minibatch Loss= 0.387872, Training Accuracy= 0.88281\n",
      "Iter 21760, Minibatch Loss= 0.439510, Training Accuracy= 0.86719\n",
      "Iter 23040, Minibatch Loss= 0.306059, Training Accuracy= 0.92969\n",
      "Iter 24320, Minibatch Loss= 0.355915, Training Accuracy= 0.92969\n",
      "Iter 25600, Minibatch Loss= 0.390489, Training Accuracy= 0.90625\n",
      "Iter 26880, Minibatch Loss= 0.396092, Training Accuracy= 0.84375\n",
      "Iter 28160, Minibatch Loss= 0.264182, Training Accuracy= 0.91406\n",
      "Iter 29440, Minibatch Loss= 0.359168, Training Accuracy= 0.88281\n",
      "Iter 30720, Minibatch Loss= 0.185165, Training Accuracy= 0.95312\n",
      "Iter 32000, Minibatch Loss= 0.343369, Training Accuracy= 0.90625\n",
      "Iter 33280, Minibatch Loss= 0.214916, Training Accuracy= 0.91406\n",
      "Iter 34560, Minibatch Loss= 0.165880, Training Accuracy= 0.94531\n",
      "Iter 35840, Minibatch Loss= 0.275857, Training Accuracy= 0.92969\n",
      "Iter 37120, Minibatch Loss= 0.217812, Training Accuracy= 0.92969\n",
      "Iter 38400, Minibatch Loss= 0.122995, Training Accuracy= 0.97656\n",
      "Iter 39680, Minibatch Loss= 0.288878, Training Accuracy= 0.89844\n",
      "Iter 40960, Minibatch Loss= 0.296839, Training Accuracy= 0.90625\n",
      "Iter 42240, Minibatch Loss= 0.188757, Training Accuracy= 0.92969\n",
      "Iter 43520, Minibatch Loss= 0.134464, Training Accuracy= 0.96875\n",
      "Iter 44800, Minibatch Loss= 0.242670, Training Accuracy= 0.92188\n",
      "Iter 46080, Minibatch Loss= 0.139437, Training Accuracy= 0.97656\n",
      "Iter 47360, Minibatch Loss= 0.110121, Training Accuracy= 0.96875\n",
      "Iter 48640, Minibatch Loss= 0.161876, Training Accuracy= 0.95312\n",
      "Iter 49920, Minibatch Loss= 0.188941, Training Accuracy= 0.94531\n",
      "Iter 51200, Minibatch Loss= 0.146915, Training Accuracy= 0.94531\n",
      "Iter 52480, Minibatch Loss= 0.231991, Training Accuracy= 0.94531\n",
      "Iter 53760, Minibatch Loss= 0.232457, Training Accuracy= 0.96094\n",
      "Iter 55040, Minibatch Loss= 0.140956, Training Accuracy= 0.95312\n",
      "Iter 56320, Minibatch Loss= 0.121336, Training Accuracy= 0.95312\n",
      "Iter 57600, Minibatch Loss= 0.200669, Training Accuracy= 0.95312\n",
      "Iter 58880, Minibatch Loss= 0.147569, Training Accuracy= 0.95312\n",
      "Iter 60160, Minibatch Loss= 0.215498, Training Accuracy= 0.94531\n",
      "Iter 61440, Minibatch Loss= 0.184776, Training Accuracy= 0.94531\n",
      "Iter 62720, Minibatch Loss= 0.091087, Training Accuracy= 0.96094\n",
      "Iter 64000, Minibatch Loss= 0.234880, Training Accuracy= 0.91406\n",
      "Iter 65280, Minibatch Loss= 0.143303, Training Accuracy= 0.95312\n",
      "Iter 66560, Minibatch Loss= 0.163874, Training Accuracy= 0.95312\n",
      "Iter 67840, Minibatch Loss= 0.168959, Training Accuracy= 0.94531\n",
      "Iter 69120, Minibatch Loss= 0.165859, Training Accuracy= 0.95312\n",
      "Iter 70400, Minibatch Loss= 0.151163, Training Accuracy= 0.96094\n",
      "Iter 71680, Minibatch Loss= 0.170946, Training Accuracy= 0.94531\n",
      "Iter 72960, Minibatch Loss= 0.083207, Training Accuracy= 0.96094\n",
      "Iter 74240, Minibatch Loss= 0.137572, Training Accuracy= 0.96875\n",
      "Iter 75520, Minibatch Loss= 0.066433, Training Accuracy= 0.98438\n",
      "Iter 76800, Minibatch Loss= 0.121654, Training Accuracy= 0.96094\n",
      "Iter 78080, Minibatch Loss= 0.155331, Training Accuracy= 0.95312\n",
      "Iter 79360, Minibatch Loss= 0.122041, Training Accuracy= 0.97656\n",
      "Iter 80640, Minibatch Loss= 0.108800, Training Accuracy= 0.96875\n",
      "Iter 81920, Minibatch Loss= 0.070565, Training Accuracy= 0.99219\n",
      "Iter 83200, Minibatch Loss= 0.043939, Training Accuracy= 0.99219\n",
      "Iter 84480, Minibatch Loss= 0.109367, Training Accuracy= 0.96094\n",
      "Iter 85760, Minibatch Loss= 0.058691, Training Accuracy= 0.97656\n",
      "Iter 87040, Minibatch Loss= 0.152975, Training Accuracy= 0.95312\n",
      "Iter 88320, Minibatch Loss= 0.111579, Training Accuracy= 0.96094\n",
      "Iter 89600, Minibatch Loss= 0.085105, Training Accuracy= 0.96875\n",
      "Iter 90880, Minibatch Loss= 0.101799, Training Accuracy= 0.97656\n",
      "Iter 92160, Minibatch Loss= 0.130807, Training Accuracy= 0.96875\n",
      "Iter 93440, Minibatch Loss= 0.079960, Training Accuracy= 0.96875\n",
      "Iter 94720, Minibatch Loss= 0.078413, Training Accuracy= 0.96875\n",
      "Iter 96000, Minibatch Loss= 0.098874, Training Accuracy= 0.96875\n",
      "Iter 97280, Minibatch Loss= 0.105854, Training Accuracy= 0.96875\n",
      "Iter 98560, Minibatch Loss= 0.109269, Training Accuracy= 0.95312\n",
      "Iter 99840, Minibatch Loss= 0.100426, Training Accuracy= 0.95312\n",
      " Finished!\n",
      "Testing Accuracy: 0.9765625\n"
     ]
    }
   ],
   "source": [
    "# 启动session\n",
    "with tf.Session() as sess:\n",
    "    sess.run(tf.global_variables_initializer())\n",
    "    step = 1\n",
    "    # Keep training until reach max iterations\n",
    "    while step * batch_size < training_iters:\n",
    "        batch_x, batch_y = mnist.train.next_batch(batch_size)\n",
    "        # Reshape data to get 28 seq of 28 elements\n",
    "        batch_x = batch_x.reshape((batch_size, n_steps, n_input))\n",
    "        # Run optimization op (backprop)\n",
    "        sess.run(optimizer, feed_dict={x: batch_x, y: batch_y})\n",
    "        if step % display_step == 0:\n",
    "            # 计算批次数据的准确率\n",
    "            acc = sess.run(accuracy, feed_dict={x: batch_x, y: batch_y})\n",
    "            # Calculate batch loss\n",
    "            loss = sess.run(cost, feed_dict={x: batch_x, y: batch_y})\n",
    "            print (\"Iter \" + str(step*batch_size) + \", Minibatch Loss= \" + \\\n",
    "                  \"{:.6f}\".format(loss) + \", Training Accuracy= \" + \\\n",
    "                  \"{:.5f}\".format(acc))\n",
    "        step += 1\n",
    "    print (\" Finished!\")\n",
    "\n",
    "    # 计算准确率 for 128 mnist test images\n",
    "    test_len = 128\n",
    "    test_data = mnist.test.images[:test_len].reshape((-1, n_steps, n_input))\n",
    "    test_label = mnist.test.labels[:test_len]\n",
    "    print (\"Testing Accuracy:\", \\\n",
    "        sess.run(accuracy, feed_dict={x: test_data, y: test_label}))\n"
   ]
  },
  {
   "cell_type": "code",
   "execution_count": null,
   "metadata": {},
   "outputs": [],
   "source": []
  }
 ],
 "metadata": {
  "kernelspec": {
   "display_name": "Python 3",
   "language": "python",
   "name": "python3"
  },
  "language_info": {
   "codemirror_mode": {
    "name": "ipython",
    "version": 3
   },
   "file_extension": ".py",
   "mimetype": "text/x-python",
   "name": "python",
   "nbconvert_exporter": "python",
   "pygments_lexer": "ipython3",
   "version": "3.5.2"
  }
 },
 "nbformat": 4,
 "nbformat_minor": 2
}
